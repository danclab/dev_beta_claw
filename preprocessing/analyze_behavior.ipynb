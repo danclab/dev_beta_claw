{
 "cells": [
  {
   "cell_type": "code",
   "execution_count": 27,
   "id": "9b8cd6bc",
   "metadata": {},
   "outputs": [],
   "source": [
    "import os\n",
    "import pandas as pd\n",
    "import matplotlib.pyplot as plt\n",
    "import numpy as np\n",
    "import mne\n",
    "from mne.io import read_raw_eeglab\n"
   ]
  },
  {
   "cell_type": "code",
   "execution_count": 19,
   "id": "651e6855",
   "metadata": {},
   "outputs": [
    {
     "name": "stdout",
     "output_type": "stream",
     "text": [
      "9m subjects: 28\n",
      "12m subjects: 32\n",
      "adult subjects: 22\n"
     ]
    }
   ],
   "source": [
    "exe_9m=pd.read_csv('/home/bonaiuto/dev_beta_umd/data/9m/behavior_exe.csv')\n",
    "exe_12m=pd.read_csv('/home/bonaiuto/dev_beta_umd/data/12m/behavior_exe.csv')\n",
    "exe_adult=pd.read_csv('/home/bonaiuto/dev_beta_umd/data/adult/behavior_exe.csv')\n",
    "\n",
    "print('9m subjects: {}'.format(len(np.unique(exe_9m['Subject']))))\n",
    "print('12m subjects: {}'.format(len(np.unique(exe_12m['Subject']))))\n",
    "print('adult subjects: {}'.format(len(np.unique(exe_adult['Subject']))))"
   ]
  },
  {
   "cell_type": "code",
   "execution_count": 56,
   "id": "981db02d",
   "metadata": {},
   "outputs": [
    {
     "name": "stderr",
     "output_type": "stream",
     "text": [
      "/tmp/ipykernel_43330/2961650569.py:7: RuntimeWarning: Limited 1 annotation(s) that were expanding outside the data range.\n",
      "  raw=read_raw_eeglab(fname,verbose=False)\n",
      "/tmp/ipykernel_43330/2961650569.py:7: RuntimeWarning: Limited 2 annotation(s) that were expanding outside the data range.\n",
      "  raw=read_raw_eeglab(fname,verbose=False)\n"
     ]
    },
    {
     "name": "stdout",
     "output_type": "stream",
     "text": [
      "sub-012: 13 in log, 14 in EEG\n"
     ]
    },
    {
     "name": "stderr",
     "output_type": "stream",
     "text": [
      "/tmp/ipykernel_43330/2961650569.py:7: RuntimeWarning: Limited 2 annotation(s) that were expanding outside the data range.\n",
      "  raw=read_raw_eeglab(fname,verbose=False)\n",
      "/tmp/ipykernel_43330/2961650569.py:7: RuntimeWarning: Limited 2 annotation(s) that were expanding outside the data range.\n",
      "  raw=read_raw_eeglab(fname,verbose=False)\n",
      "/tmp/ipykernel_43330/2961650569.py:7: RuntimeWarning: Limited 1 annotation(s) that were expanding outside the data range.\n",
      "  raw=read_raw_eeglab(fname,verbose=False)\n"
     ]
    },
    {
     "name": "stdout",
     "output_type": "stream",
     "text": [
      "sub-013: 9 in log, 10 in EEG\n",
      "sub-014: 5 in log, 6 in EEG\n",
      "sub-015: 10 in log, 11 in EEG\n"
     ]
    },
    {
     "name": "stderr",
     "output_type": "stream",
     "text": [
      "/tmp/ipykernel_43330/2961650569.py:7: RuntimeWarning: Limited 1 annotation(s) that were expanding outside the data range.\n",
      "  raw=read_raw_eeglab(fname,verbose=False)\n",
      "/tmp/ipykernel_43330/2961650569.py:7: RuntimeWarning: Limited 2 annotation(s) that were expanding outside the data range.\n",
      "  raw=read_raw_eeglab(fname,verbose=False)\n"
     ]
    },
    {
     "name": "stdout",
     "output_type": "stream",
     "text": [
      "sub-016: 15 in log, 16 in EEG\n"
     ]
    },
    {
     "name": "stderr",
     "output_type": "stream",
     "text": [
      "/tmp/ipykernel_43330/2961650569.py:7: RuntimeWarning: Limited 2 annotation(s) that were expanding outside the data range.\n",
      "  raw=read_raw_eeglab(fname,verbose=False)\n",
      "/tmp/ipykernel_43330/2961650569.py:7: RuntimeWarning: Limited 1 annotation(s) that were expanding outside the data range.\n",
      "  raw=read_raw_eeglab(fname,verbose=False)\n",
      "/tmp/ipykernel_43330/2961650569.py:7: RuntimeWarning: Limited 1 annotation(s) that were expanding outside the data range.\n",
      "  raw=read_raw_eeglab(fname,verbose=False)\n",
      "/tmp/ipykernel_43330/2961650569.py:7: RuntimeWarning: Limited 2 annotation(s) that were expanding outside the data range.\n",
      "  raw=read_raw_eeglab(fname,verbose=False)\n"
     ]
    },
    {
     "name": "stdout",
     "output_type": "stream",
     "text": [
      "sub-021: 17 in log, 18 in EEG\n"
     ]
    },
    {
     "name": "stderr",
     "output_type": "stream",
     "text": [
      "/tmp/ipykernel_43330/2961650569.py:7: RuntimeWarning: Limited 2 annotation(s) that were expanding outside the data range.\n",
      "  raw=read_raw_eeglab(fname,verbose=False)\n",
      "/tmp/ipykernel_43330/2961650569.py:7: RuntimeWarning: Limited 2 annotation(s) that were expanding outside the data range.\n",
      "  raw=read_raw_eeglab(fname,verbose=False)\n"
     ]
    },
    {
     "name": "stdout",
     "output_type": "stream",
     "text": [
      "sub-025: 7 in log, 8 in EEG\n",
      "sub-026: 16 in log, 17 in EEG\n"
     ]
    },
    {
     "name": "stderr",
     "output_type": "stream",
     "text": [
      "/tmp/ipykernel_43330/2961650569.py:7: RuntimeWarning: Limited 2 annotation(s) that were expanding outside the data range.\n",
      "  raw=read_raw_eeglab(fname,verbose=False)\n",
      "/tmp/ipykernel_43330/2961650569.py:7: RuntimeWarning: Limited 2 annotation(s) that were expanding outside the data range.\n",
      "  raw=read_raw_eeglab(fname,verbose=False)\n",
      "/tmp/ipykernel_43330/2961650569.py:7: RuntimeWarning: Limited 2 annotation(s) that were expanding outside the data range.\n",
      "  raw=read_raw_eeglab(fname,verbose=False)\n",
      "/tmp/ipykernel_43330/2961650569.py:7: RuntimeWarning: Limited 2 annotation(s) that were expanding outside the data range.\n",
      "  raw=read_raw_eeglab(fname,verbose=False)\n",
      "/tmp/ipykernel_43330/2961650569.py:7: RuntimeWarning: Limited 2 annotation(s) that were expanding outside the data range.\n",
      "  raw=read_raw_eeglab(fname,verbose=False)\n",
      "/tmp/ipykernel_43330/2961650569.py:7: RuntimeWarning: Limited 2 annotation(s) that were expanding outside the data range.\n",
      "  raw=read_raw_eeglab(fname,verbose=False)\n"
     ]
    },
    {
     "name": "stdout",
     "output_type": "stream",
     "text": [
      "sub-030: 17 in log, 18 in EEG\n"
     ]
    },
    {
     "name": "stderr",
     "output_type": "stream",
     "text": [
      "/tmp/ipykernel_43330/2961650569.py:7: RuntimeWarning: Limited 2 annotation(s) that were expanding outside the data range.\n",
      "  raw=read_raw_eeglab(fname,verbose=False)\n",
      "/tmp/ipykernel_43330/2961650569.py:7: RuntimeWarning: Limited 2 annotation(s) that were expanding outside the data range.\n",
      "  raw=read_raw_eeglab(fname,verbose=False)\n",
      "/tmp/ipykernel_43330/2961650569.py:7: RuntimeWarning: Limited 2 annotation(s) that were expanding outside the data range.\n",
      "  raw=read_raw_eeglab(fname,verbose=False)\n"
     ]
    },
    {
     "name": "stdout",
     "output_type": "stream",
     "text": [
      "sub-032: 19 in log, 20 in EEG\n",
      "sub-036: 7 in log, 8 in EEG\n"
     ]
    },
    {
     "name": "stderr",
     "output_type": "stream",
     "text": [
      "/tmp/ipykernel_43330/2961650569.py:7: RuntimeWarning: Limited 2 annotation(s) that were expanding outside the data range.\n",
      "  raw=read_raw_eeglab(fname,verbose=False)\n",
      "/tmp/ipykernel_43330/2961650569.py:7: RuntimeWarning: Limited 2 annotation(s) that were expanding outside the data range.\n",
      "  raw=read_raw_eeglab(fname,verbose=False)\n"
     ]
    },
    {
     "name": "stdout",
     "output_type": "stream",
     "text": [
      "sub-037: 9 in log, 10 in EEG\n",
      "sub-038: 9 in log, 10 in EEG\n"
     ]
    },
    {
     "name": "stderr",
     "output_type": "stream",
     "text": [
      "/tmp/ipykernel_43330/2961650569.py:7: RuntimeWarning: Limited 2 annotation(s) that were expanding outside the data range.\n",
      "  raw=read_raw_eeglab(fname,verbose=False)\n",
      "/tmp/ipykernel_43330/2961650569.py:7: RuntimeWarning: Limited 2 annotation(s) that were expanding outside the data range.\n",
      "  raw=read_raw_eeglab(fname,verbose=False)\n",
      "/tmp/ipykernel_43330/2961650569.py:7: RuntimeWarning: Limited 2 annotation(s) that were expanding outside the data range.\n",
      "  raw=read_raw_eeglab(fname,verbose=False)\n",
      "/tmp/ipykernel_43330/2961650569.py:7: RuntimeWarning: Limited 2 annotation(s) that were expanding outside the data range.\n",
      "  raw=read_raw_eeglab(fname,verbose=False)\n"
     ]
    }
   ],
   "source": [
    "subjects_9m=np.unique(exe_9m['Subject'])\n",
    "for subject in subjects_9m:\n",
    "    subj_rows=np.where(exe_9m['Subject']==subject)[0]\n",
    "    total_trials=len(subj_rows)\n",
    "    \n",
    "    fname=os.path.join('/home/bonaiuto/dev_beta_umd/data/9m/data',subject,'eeg','{}_task-tool_obs_exe_eeg.set'.format(subject))\n",
    "    raw=read_raw_eeglab(fname,verbose=False)\n",
    "    \n",
    "    events_from_annot, event_dict = mne.events_from_annotations(raw,verbose=False)\n",
    "    evt_key=event_dict['LEXT']\n",
    "    evts=np.where(events_from_annot[:,2]==evt_key)\n",
    "    trial_onsets=events_from_annot[evts,0]\n",
    "    if trial_onsets.shape[1]!=total_trials:\n",
    "        print('{}: {} in log, {} in EEG'.format(subject,total_trials,trial_onsets.shape[1]))"
   ]
  },
  {
   "cell_type": "code",
   "execution_count": 47,
   "id": "754dc560",
   "metadata": {},
   "outputs": [
    {
     "name": "stdout",
     "output_type": "stream",
     "text": [
      "Used Annotations descriptions: ['CELL', 'FTGE', 'FTGO', 'LBBS', 'LBEX', 'LBOB', 'LBSE', 'LEXT', 'LOBS', 'LtIm', 'SESS', 'TRSP', 'bgin', 'break cnt']\n",
      "(1, 10)\n"
     ]
    }
   ],
   "source": [
    "\n"
   ]
  },
  {
   "cell_type": "code",
   "execution_count": 3,
   "id": "1b8a22bb",
   "metadata": {},
   "outputs": [
    {
     "name": "stdout",
     "output_type": "stream",
     "text": [
      "9m nograsp trials=15\n",
      "12m nograsp trials=16\n",
      "adult nograsp trials=0\n",
      "9m subjects: 28\n",
      "12m subjects: 32\n",
      "adult subjects: 22\n"
     ]
    }
   ],
   "source": [
    "# Remove trials with no grasp\n",
    "no_grasp_9m=np.where(exe_9m['FTG']==0)[0]\n",
    "print('9m nograsp trials={}'.format(len(no_grasp_9m)))\n",
    "no_grasp_12m=np.where(exe_12m['FTG']==0)[0]\n",
    "print('12m nograsp trials={}'.format(len(no_grasp_12m)))\n",
    "no_grasp_adult=np.where(exe_adult['FTG']==0)[0]\n",
    "print('adult nograsp trials={}'.format(len(no_grasp_adult)))\n",
    "\n",
    "exe_9m = exe_9m.drop(no_grasp_9m).reset_index(drop=True)\n",
    "exe_12m = exe_12m.drop(no_grasp_12m).reset_index(drop=True)\n",
    "exe_adult = exe_adult.drop(no_grasp_adult).reset_index(drop=True)\n",
    "\n",
    "print('9m subjects: {}'.format(len(np.unique(exe_9m['Subject']))))\n",
    "print('12m subjects: {}'.format(len(np.unique(exe_12m['Subject']))))\n",
    "print('adult subjects: {}'.format(len(np.unique(exe_adult['Subject']))))"
   ]
  },
  {
   "cell_type": "code",
   "execution_count": 4,
   "id": "19a08583",
   "metadata": {},
   "outputs": [
    {
     "data": {
      "text/plain": [
       "Text(0, 0.5, '# subjects')"
      ]
     },
     "execution_count": 4,
     "metadata": {},
     "output_type": "execute_result"
    },
    {
     "data": {
      "image/png": "[encoded data removed]",
      "text/plain": [
       "<Figure size 864x288 with 3 Axes>"
      ]
     },
     "metadata": {
      "needs_background": "light"
     },
     "output_type": "display_data"
    }
   ],
   "source": [
    "subjects=np.unique(exe_9m['Subject'])\n",
    "subj_l_perc_9m=np.zeros(len(subjects))\n",
    "subj_r_perc_9m=np.zeros(len(subjects))\n",
    "subj_other_perc_9m=np.zeros(len(subjects))\n",
    "for s_idx,subject in enumerate(subjects):\n",
    "    subj_rows=np.where(exe_9m['Subject']==subject)[0]\n",
    "    total_trials=len(subj_rows)\n",
    "    l_trials=len(np.where(exe_9m['FTGhand'][subj_rows]=='L')[0])\n",
    "    r_trials=len(np.where(exe_9m['FTGhand'][subj_rows]=='R')[0])\n",
    "    other_trials=total_trials-(l_trials+r_trials)\n",
    "    subj_l_perc_9m[s_idx]=l_trials/total_trials*100\n",
    "    subj_r_perc_9m[s_idx]=r_trials/total_trials*100\n",
    "    subj_other_perc_9m[s_idx]=other_trials/total_trials*100\n",
    "subjects=np.unique(exe_12m['Subject'])\n",
    "subj_l_perc_12m=np.zeros(len(subjects))\n",
    "subj_r_perc_12m=np.zeros(len(subjects))\n",
    "subj_other_perc_12m=np.zeros(len(subjects))\n",
    "for s_idx,subject in enumerate(subjects):\n",
    "    subj_rows=np.where(exe_12m['Subject']==subject)[0]\n",
    "    total_trials=len(subj_rows)\n",
    "    l_trials=len(np.where(exe_12m['FTGhand'][subj_rows]=='L')[0])\n",
    "    r_trials=len(np.where(exe_12m['FTGhand'][subj_rows]=='R')[0])\n",
    "    other_trials=total_trials-(l_trials+r_trials)\n",
    "    subj_l_perc_12m[s_idx]=l_trials/total_trials*100\n",
    "    subj_r_perc_12m[s_idx]=r_trials/total_trials*100\n",
    "    subj_other_perc_12m[s_idx]=other_trials/total_trials*100\n",
    "subjects=np.unique(exe_adult['Subject'])\n",
    "subj_l_perc_adult=np.zeros(len(subjects))\n",
    "subj_r_perc_adult=np.zeros(len(subjects))\n",
    "subj_other_perc_adult=np.zeros(len(subjects))\n",
    "for s_idx,subject in enumerate(subjects):\n",
    "    subj_rows=np.where(exe_adult['Subject']==subject)[0]\n",
    "    total_trials=len(subj_rows)\n",
    "    l_trials=len(np.where(exe_adult['FTGhand'][subj_rows]=='L')[0])\n",
    "    r_trials=len(np.where(exe_adult['FTGhand'][subj_rows]=='R')[0])\n",
    "    other_trials=total_trials-(l_trials+r_trials)\n",
    "    subj_l_perc_adult[s_idx]=l_trials/total_trials*100\n",
    "    subj_r_perc_adult[s_idx]=r_trials/total_trials*100\n",
    "    subj_other_perc_adult[s_idx]=other_trials/total_trials*100\n",
    "    \n",
    "bins=np.arange(0,120,10)\n",
    "plt.figure(figsize=(12,4))\n",
    "plt.subplot(1,3,1)\n",
    "plt.hist(subj_l_perc_9m,bins,alpha=.2,label='9m')\n",
    "plt.hist(subj_l_perc_12m,bins,alpha=.2,label='12m')\n",
    "plt.hist(subj_l_perc_adult,bins,alpha=.2,label='adult')\n",
    "plt.xlabel('% L trials')\n",
    "plt.ylabel('# subjects')\n",
    "plt.legend()\n",
    "plt.subplot(1,3,2)\n",
    "plt.hist(subj_r_perc_9m,bins,alpha=.2)\n",
    "plt.hist(subj_r_perc_12m,bins,alpha=.2)\n",
    "plt.hist(subj_r_perc_adult,bins,alpha=.2)\n",
    "plt.xlabel('% R trials')\n",
    "plt.ylabel('# subjects')\n",
    "plt.subplot(1,3,3)\n",
    "plt.hist(subj_other_perc_9m,bins,alpha=.2)\n",
    "plt.hist(subj_other_perc_12m,bins,alpha=.2)\n",
    "plt.hist(subj_other_perc_adult,bins,alpha=.2)\n",
    "plt.xlabel('% other trials')\n",
    "plt.ylabel('# subjects')"
   ]
  },
  {
   "cell_type": "code",
   "execution_count": 5,
   "id": "08181039",
   "metadata": {},
   "outputs": [
    {
     "name": "stdout",
     "output_type": "stream",
     "text": [
      "9m other trials: 1\n",
      "12m other trials: 4\n",
      "adult other trials: 1\n",
      "9m subjects: 28\n",
      "12m subjects: 32\n",
      "adult subjects: 22\n"
     ]
    }
   ],
   "source": [
    "# Remove trials that are not left or right\n",
    "other_trials_9m=np.where(~((exe_9m['FTGhand']=='L') | (exe_9m['FTGhand']=='R')))[0]\n",
    "other_trials_12m=np.where(~((exe_12m['FTGhand']=='L') | (exe_12m['FTGhand']=='R')))[0]\n",
    "other_trials_adult=np.where(~((exe_adult['FTGhand']=='L') | (exe_adult['FTGhand']=='R')))[0]\n",
    "\n",
    "print('9m other trials: {}'.format(len(other_trials_9m)))\n",
    "print('12m other trials: {}'.format(len(other_trials_12m)))\n",
    "print('adult other trials: {}'.format(len(other_trials_adult)))\n",
    "\n",
    "exe_9m = exe_9m.drop(other_trials_9m).reset_index(drop=True)\n",
    "exe_12m = exe_12m.drop(other_trials_12m).reset_index(drop=True)\n",
    "exe_adult = exe_adult.drop(other_trials_adult).reset_index(drop=True)\n",
    "\n",
    "print('9m subjects: {}'.format(len(np.unique(exe_9m['Subject']))))\n",
    "print('12m subjects: {}'.format(len(np.unique(exe_12m['Subject']))))\n",
    "print('adult subjects: {}'.format(len(np.unique(exe_adult['Subject']))))"
   ]
  },
  {
   "cell_type": "code",
   "execution_count": 6,
   "id": "b1632218",
   "metadata": {},
   "outputs": [
    {
     "data": {
      "text/plain": [
       "Text(0, 0.5, '# subjects')"
      ]
     },
     "execution_count": 6,
     "metadata": {},
     "output_type": "execute_result"
    },
    {
     "data": {
      "image/png": "[encoded data removed]",
      "text/plain": [
       "<Figure size 576x288 with 2 Axes>"
      ]
     },
     "metadata": {
      "needs_background": "light"
     },
     "output_type": "display_data"
    }
   ],
   "source": [
    "subjects=np.unique(exe_9m['Subject'])\n",
    "subj_l_perc_9m=np.zeros(len(subjects))\n",
    "subj_r_perc_9m=np.zeros(len(subjects))\n",
    "for s_idx,subject in enumerate(subjects):\n",
    "    subj_rows=np.where(exe_9m['Subject']==subject)[0]\n",
    "    total_trials=len(subj_rows)\n",
    "    l_trials=len(np.where(exe_9m['FTGhand'][subj_rows]=='L')[0])\n",
    "    r_trials=len(np.where(exe_9m['FTGhand'][subj_rows]=='R')[0])\n",
    "    subj_l_perc_9m[s_idx]=l_trials/total_trials*100\n",
    "    subj_r_perc_9m[s_idx]=r_trials/total_trials*100\n",
    "subjects=np.unique(exe_12m['Subject'])\n",
    "subj_l_perc_12m=np.zeros(len(subjects))\n",
    "subj_r_perc_12m=np.zeros(len(subjects))\n",
    "for s_idx,subject in enumerate(subjects):\n",
    "    subj_rows=np.where(exe_12m['Subject']==subject)[0]\n",
    "    total_trials=len(subj_rows)\n",
    "    l_trials=len(np.where(exe_12m['FTGhand'][subj_rows]=='L')[0])\n",
    "    r_trials=len(np.where(exe_12m['FTGhand'][subj_rows]=='R')[0])\n",
    "    subj_l_perc_12m[s_idx]=l_trials/total_trials*100\n",
    "    subj_r_perc_12m[s_idx]=r_trials/total_trials*100\n",
    "subjects=np.unique(exe_adult['Subject'])\n",
    "subj_l_perc_adult=np.zeros(len(subjects))\n",
    "subj_r_perc_adult=np.zeros(len(subjects))\n",
    "for s_idx,subject in enumerate(subjects):\n",
    "    subj_rows=np.where(exe_adult['Subject']==subject)[0]\n",
    "    total_trials=len(subj_rows)\n",
    "    l_trials=len(np.where(exe_adult['FTGhand'][subj_rows]=='L')[0])\n",
    "    r_trials=len(np.where(exe_adult['FTGhand'][subj_rows]=='R')[0])\n",
    "    subj_l_perc_adult[s_idx]=l_trials/total_trials*100\n",
    "    subj_r_perc_adult[s_idx]=r_trials/total_trials*100\n",
    "    \n",
    "bins=np.arange(0,120,10)\n",
    "plt.figure(figsize=(8,4))\n",
    "plt.subplot(1,2,1)\n",
    "plt.hist(subj_l_perc_9m,bins,alpha=.2,label='9m')\n",
    "plt.hist(subj_l_perc_12m,bins,alpha=.2,label='12m')\n",
    "plt.hist(subj_l_perc_adult,bins,alpha=.2,label='adult')\n",
    "plt.xlabel('% L trials')\n",
    "plt.ylabel('# subjects')\n",
    "plt.legend()\n",
    "plt.subplot(1,2,2)\n",
    "plt.hist(subj_r_perc_9m,bins,alpha=.2)\n",
    "plt.hist(subj_r_perc_12m,bins,alpha=.2)\n",
    "plt.hist(subj_r_perc_adult,bins,alpha=.2)\n",
    "plt.xlabel('% R trials')\n",
    "plt.ylabel('# subjects')"
   ]
  },
  {
   "cell_type": "code",
   "execution_count": 7,
   "id": "a3e42c86",
   "metadata": {},
   "outputs": [
    {
     "data": {
      "text/plain": [
       "<matplotlib.legend.Legend at 0x7f8ad0da4b20>"
      ]
     },
     "execution_count": 7,
     "metadata": {},
     "output_type": "execute_result"
    },
    {
     "data": {
      "image/png": "[encoded data removed]",
      "text/plain": [
       "<Figure size 432x288 with 1 Axes>"
      ]
     },
     "metadata": {
      "needs_background": "light"
     },
     "output_type": "display_data"
    }
   ],
   "source": [
    "metric_9m=exe_9m['FTG']-exe_9m['FT']\n",
    "plt.hist(metric_9m/1000, alpha=.2, label='9m')\n",
    "metric_12m=exe_12m['FTG']-exe_12m['FT']\n",
    "plt.hist(metric_12m/1000, alpha=.2, label='12m')\n",
    "metric_adult=exe_adult['FTG']-exe_adult['FT']\n",
    "plt.hist(metric_adult/1000, alpha=.2, label='adult')\n",
    "plt.xlabel('FT to FTG duration (s)')\n",
    "plt.ylabel('# trials')\n",
    "plt.legend('')\n"
   ]
  },
  {
   "cell_type": "code",
   "execution_count": 8,
   "id": "0bfb2853",
   "metadata": {},
   "outputs": [
    {
     "name": "stdout",
     "output_type": "stream",
     "text": [
      "9m outlier trials: 129\n",
      "12m outlier trials: 125\n",
      "adult outlier trials: 1\n",
      "9m subjects: 27\n",
      "12m subjects: 31\n",
      "adult subjects: 22\n"
     ]
    },
    {
     "data": {
      "image/png": "[encoded data removed]",
      "text/plain": [
       "<Figure size 432x288 with 1 Axes>"
      ]
     },
     "metadata": {
      "needs_background": "light"
     },
     "output_type": "display_data"
    }
   ],
   "source": [
    "med_metric=np.median(metric_9m)\n",
    "dev_metric=np.abs(metric_9m-med_metric)\n",
    "med_dev_metric=np.median(dev_metric)\n",
    "ub=med_metric+3*med_dev_metric\n",
    "lb=med_metric-3*med_dev_metric\n",
    "outliers_9m=np.where((metric_9m<lb) | (metric_9m>ub))[0]\n",
    "\n",
    "med_metric=np.median(metric_12m)\n",
    "dev_metric=np.abs(metric_12m-med_metric)\n",
    "med_dev_metric=np.median(dev_metric)\n",
    "ub=med_metric+3*med_dev_metric\n",
    "lb=med_metric-3*med_dev_metric\n",
    "outliers_12m=np.where((metric_12m<lb) | (metric_12m>ub))[0]\n",
    "\n",
    "med_metric=np.median(metric_adult)\n",
    "dev_metric=np.abs(metric_adult-med_metric)\n",
    "med_dev_metric=np.median(dev_metric)\n",
    "ub=med_metric+3*med_dev_metric\n",
    "lb=med_metric-3*med_dev_metric\n",
    "outliers_adult=np.where((metric_adult<lb) | (metric_adult>ub))[0]\n",
    "\n",
    "print('9m outlier trials: {}'.format(len(outliers_9m)))\n",
    "print('12m outlier trials: {}'.format(len(outliers_12m)))\n",
    "print('adult outlier trials: {}'.format(len(outliers_adult)))\n",
    "\n",
    "exe_9m = exe_9m.drop(outliers_9m).reset_index(drop=True)\n",
    "exe_12m = exe_12m.drop(outliers_12m).reset_index(drop=True)\n",
    "exe_adult = exe_adult.drop(outliers_adult).reset_index(drop=True)\n",
    "\n",
    "metric_9m=exe_9m['FTG']-exe_9m['FT']\n",
    "metric_12m=exe_12m['FTG']-exe_12m['FT']\n",
    "metric_adult=exe_adult['FTG']-exe_adult['FT']\n",
    "plt.hist(metric_9m/1000, alpha=.2, label='9m')\n",
    "plt.hist(metric_12m/1000, alpha=.2, label='12m')\n",
    "plt.hist(metric_adult/1000, alpha=.2, label='adult')\n",
    "plt.xlabel('FT to FTG duration (s)')\n",
    "plt.ylabel('# trials')\n",
    "plt.legend('')\n",
    "\n",
    "print('9m subjects: {}'.format(len(np.unique(exe_9m['Subject']))))\n",
    "print('12m subjects: {}'.format(len(np.unique(exe_12m['Subject']))))\n",
    "print('adult subjects: {}'.format(len(np.unique(exe_adult['Subject']))))"
   ]
  },
  {
   "cell_type": "code",
   "execution_count": 9,
   "id": "5786f6ea",
   "metadata": {},
   "outputs": [
    {
     "data": {
      "text/plain": [
       "<matplotlib.legend.Legend at 0x7f8ad0db9550>"
      ]
     },
     "execution_count": 9,
     "metadata": {},
     "output_type": "execute_result"
    },
    {
     "data": {
      "image/png": "[encoded data removed]",
      "text/plain": [
       "<Figure size 432x288 with 1 Axes>"
      ]
     },
     "metadata": {
      "needs_background": "light"
     },
     "output_type": "display_data"
    }
   ],
   "source": [
    "metric_9m=exe_9m['GC']-exe_9m['FTG']\n",
    "plt.hist(metric_9m/1000, alpha=.2, label='9m')\n",
    "metric_12m=exe_12m['GC']-exe_12m['FTG']\n",
    "plt.hist(metric_12m/1000, alpha=.2, label='12m')\n",
    "metric_adult=exe_adult['GC']-exe_adult['FTG']\n",
    "plt.hist(metric_adult/1000, alpha=.2, label='adult')\n",
    "plt.xlabel('Grasp duration (s)')\n",
    "plt.ylabel('# trials')\n",
    "plt.legend()"
   ]
  },
  {
   "cell_type": "code",
   "execution_count": 10,
   "id": "22857bb9",
   "metadata": {},
   "outputs": [
    {
     "name": "stdout",
     "output_type": "stream",
     "text": [
      "9m outlier trials: 46\n",
      "12m outlier trials: 42\n",
      "adult outlier trials: 28\n",
      "9m subjects: 27\n",
      "12m subjects: 31\n",
      "adult subjects: 22\n"
     ]
    },
    {
     "data": {
      "image/png": "[encoded data removed]",
      "text/plain": [
       "<Figure size 432x288 with 1 Axes>"
      ]
     },
     "metadata": {
      "needs_background": "light"
     },
     "output_type": "display_data"
    }
   ],
   "source": [
    "med_metric=np.median(metric_9m)\n",
    "dev_metric=np.abs(metric_9m-med_metric)\n",
    "med_dev_metric=np.median(dev_metric)\n",
    "ub=med_metric+3*med_dev_metric\n",
    "lb=med_metric-3*med_dev_metric\n",
    "outliers_9m=np.where((metric_9m<lb) | (metric_9m>ub))[0]\n",
    "\n",
    "med_metric=np.median(metric_12m)\n",
    "dev_metric=np.abs(metric_12m-med_metric)\n",
    "med_dev_metric=np.median(dev_metric)\n",
    "ub=med_metric+3*med_dev_metric\n",
    "lb=med_metric-3*med_dev_metric\n",
    "outliers_12m=np.where((metric_12m<lb) | (metric_12m>ub))[0]\n",
    "\n",
    "med_metric=np.median(metric_adult)\n",
    "dev_metric=np.abs(metric_adult-med_metric)\n",
    "med_dev_metric=np.median(dev_metric)\n",
    "ub=med_metric+3*med_dev_metric\n",
    "lb=med_metric-3*med_dev_metric\n",
    "outliers_adult=np.where((metric_adult<lb) | (metric_adult>ub))[0]\n",
    "\n",
    "print('9m outlier trials: {}'.format(len(outliers_9m)))\n",
    "print('12m outlier trials: {}'.format(len(outliers_12m)))\n",
    "print('adult outlier trials: {}'.format(len(outliers_adult)))\n",
    "\n",
    "exe_9m = exe_9m.drop(outliers_9m).reset_index(drop=True)\n",
    "exe_12m = exe_12m.drop(outliers_12m).reset_index(drop=True)\n",
    "exe_adult = exe_adult.drop(outliers_adult).reset_index(drop=True)\n",
    "\n",
    "metric_9m=exe_9m['GC']-exe_9m['FTG']\n",
    "metric_12m=exe_12m['GC']-exe_12m['FTG']\n",
    "metric_adult=exe_adult['GC']-exe_adult['FTG']\n",
    "plt.hist(metric_9m/1000,alpha=.2,label='9m')\n",
    "plt.hist(metric_12m/1000,alpha=.2,label='12m')\n",
    "plt.hist(metric_adult/1000,alpha=.2,label='adult')\n",
    "plt.xlabel('Grasp duration (s)')\n",
    "plt.ylabel('# trials')\n",
    "plt.legend()\n",
    "\n",
    "print('9m subjects: {}'.format(len(np.unique(exe_9m['Subject']))))\n",
    "print('12m subjects: {}'.format(len(np.unique(exe_12m['Subject']))))\n",
    "print('adult subjects: {}'.format(len(np.unique(exe_adult['Subject']))))"
   ]
  },
  {
   "cell_type": "code",
   "execution_count": 11,
   "id": "f31cca3d",
   "metadata": {},
   "outputs": [
    {
     "name": "stdout",
     "output_type": "stream",
     "text": [
      "9m L subjects: 20\n",
      "9m R subjects: 26\n",
      "12m L subjects: 27\n",
      "12m R subjects: 28\n",
      "adult L subjects: 7\n",
      "adult R subjects: 22\n"
     ]
    },
    {
     "data": {
      "text/plain": [
       "(array([2., 1., 1., 0., 2., 0., 0., 3., 4., 9.]),\n",
       " array([ 5. ,  6.5,  8. ,  9.5, 11. , 12.5, 14. , 15.5, 17. , 18.5, 20. ]),\n",
       " <BarContainer object of 10 artists>)"
      ]
     },
     "execution_count": 11,
     "metadata": {},
     "output_type": "execute_result"
    },
    {
     "data": {
      "image/png": "[encoded data removed]",
      "text/plain": [
       "<Figure size 432x288 with 2 Axes>"
      ]
     },
     "metadata": {
      "needs_background": "light"
     },
     "output_type": "display_data"
    }
   ],
   "source": [
    "l_9m_idx=np.where(exe_9m['FTGhand']=='L')[0]\n",
    "r_9m_idx=np.where(exe_9m['FTGhand']=='R')[0]\n",
    "l_9m = exe_9m.drop(r_9m_idx).reset_index(drop=True)\n",
    "r_9m = exe_9m.drop(l_9m_idx).reset_index(drop=True)\n",
    "\n",
    "l_12m_idx=np.where(exe_12m['FTGhand']=='L')[0]\n",
    "r_12m_idx=np.where(exe_12m['FTGhand']=='R')[0]\n",
    "l_12m = exe_12m.drop(r_12m_idx).reset_index(drop=True)\n",
    "r_12m = exe_12m.drop(l_12m_idx).reset_index(drop=True)\n",
    "\n",
    "l_adult_idx=np.where(exe_adult['FTGhand']=='L')[0]\n",
    "r_adult_idx=np.where(exe_adult['FTGhand']=='R')[0]\n",
    "l_adult = exe_adult.drop(r_adult_idx).reset_index(drop=True)\n",
    "r_adult = exe_adult.drop(l_adult_idx).reset_index(drop=True)\n",
    "\n",
    "print('9m L subjects: {}'.format(len(np.unique(l_9m['Subject']))))\n",
    "print('9m R subjects: {}'.format(len(np.unique(r_9m['Subject']))))\n",
    "print('12m L subjects: {}'.format(len(np.unique(l_12m['Subject']))))\n",
    "print('12m R subjects: {}'.format(len(np.unique(r_12m['Subject']))))\n",
    "print('adult L subjects: {}'.format(len(np.unique(l_adult['Subject']))))\n",
    "print('adult R subjects: {}'.format(len(np.unique(r_adult['Subject']))))\n",
    "\n",
    "plt.subplot(2,1,1)\n",
    "plt.hist(l_9m.Subject.value_counts(),alpha=.2,label='9m')\n",
    "plt.hist(l_12m.Subject.value_counts(),alpha=.2,label='12m')\n",
    "plt.hist(l_adult.Subject.value_counts(),alpha=.2,label='adult')\n",
    "plt.legend()\n",
    "plt.subplot(2,1,2)\n",
    "plt.hist(r_9m.Subject.value_counts(),alpha=.2,label='9m')\n",
    "plt.hist(r_12m.Subject.value_counts(),alpha=.2,label='12m')\n",
    "plt.hist(r_adult.Subject.value_counts(),alpha=.2,label='adult')"
   ]
  },
  {
   "cell_type": "code",
   "execution_count": 12,
   "id": "516ad3c1",
   "metadata": {},
   "outputs": [
    {
     "name": "stdout",
     "output_type": "stream",
     "text": [
      "9m L subjects: 12\n",
      "9m R subjects: 16\n",
      "12m L subjects: 18\n",
      "12m R subjects: 16\n",
      "adult L subjects: 6\n",
      "adult R subjects: 22\n"
     ]
    },
    {
     "data": {
      "text/plain": [
       "(array([2., 1., 1., 0., 2., 0., 0., 3., 4., 9.]),\n",
       " array([ 5. ,  6.5,  8. ,  9.5, 11. , 12.5, 14. , 15.5, 17. , 18.5, 20. ]),\n",
       " <BarContainer object of 10 artists>)"
      ]
     },
     "execution_count": 12,
     "metadata": {},
     "output_type": "execute_result"
    },
    {
     "data": {
      "image/png": "[encoded data removed]",
      "text/plain": [
       "<Figure size 432x288 with 2 Axes>"
      ]
     },
     "metadata": {
      "needs_background": "light"
     },
     "output_type": "display_data"
    }
   ],
   "source": [
    "val_counts=l_9m.Subject.value_counts()\n",
    "rm_9m=val_counts.index[val_counts<3].values\n",
    "l_9m = l_9m.drop(np.where(np.isin(l_9m['Subject'], rm_9m))[0]).reset_index(drop=True)\n",
    "val_counts=l_12m.Subject.value_counts()\n",
    "rm_12m=val_counts.index[val_counts<3].values\n",
    "l_12m = l_12m.drop(np.where(np.isin(l_12m['Subject'], rm_12m))[0]).reset_index(drop=True)\n",
    "val_counts=l_adult.Subject.value_counts()\n",
    "rm_adult=val_counts.index[val_counts<3].values\n",
    "l_adult = l_adult.drop(np.where(np.isin(l_adult['Subject'], rm_adult))[0]).reset_index(drop=True)\n",
    "\n",
    "val_counts=r_9m.Subject.value_counts()\n",
    "rm_9m=val_counts.index[val_counts<3].values\n",
    "r_9m = r_9m.drop(np.where(np.isin(r_9m['Subject'], rm_9m))[0]).reset_index(drop=True)\n",
    "val_counts=r_12m.Subject.value_counts()\n",
    "rm_12m=val_counts.index[val_counts<3].values\n",
    "r_12m = r_12m.drop(np.where(np.isin(r_12m['Subject'], rm_12m))[0]).reset_index(drop=True)\n",
    "val_counts=r_adult.Subject.value_counts()\n",
    "rm_adult=val_counts.index[val_counts<3].values\n",
    "r_adult = r_adult.drop(np.where(np.isin(r_adult['Subject'], rm_adult))[0]).reset_index(drop=True)\n",
    "\n",
    "\n",
    "print('9m L subjects: {}'.format(len(np.unique(l_9m['Subject']))))\n",
    "print('9m R subjects: {}'.format(len(np.unique(r_9m['Subject']))))\n",
    "print('12m L subjects: {}'.format(len(np.unique(l_12m['Subject']))))\n",
    "print('12m R subjects: {}'.format(len(np.unique(r_12m['Subject']))))\n",
    "print('adult L subjects: {}'.format(len(np.unique(l_adult['Subject']))))\n",
    "print('adult R subjects: {}'.format(len(np.unique(r_adult['Subject']))))\n",
    "\n",
    "plt.subplot(2,1,1)\n",
    "plt.hist(l_9m.Subject.value_counts(),alpha=.2,label='9m')\n",
    "plt.hist(l_12m.Subject.value_counts(),alpha=.2,label='12m')\n",
    "plt.hist(l_adult.Subject.value_counts(),alpha=.2,label='adult')\n",
    "plt.legend()\n",
    "plt.subplot(2,1,2)\n",
    "plt.hist(r_9m.Subject.value_counts(),alpha=.2,label='9m')\n",
    "plt.hist(r_12m.Subject.value_counts(),alpha=.2,label='12m')\n",
    "plt.hist(r_adult.Subject.value_counts(),alpha=.2,label='adult')"
   ]
  },
  {
   "cell_type": "code",
   "execution_count": null,
   "id": "edd0697d",
   "metadata": {},
   "outputs": [],
   "source": []
  },
  {
   "cell_type": "code",
   "execution_count": null,
   "id": "42a17f92",
   "metadata": {},
   "outputs": [],
   "source": []
  },
  {
   "cell_type": "code",
   "execution_count": null,
   "id": "283a30a6",
   "metadata": {},
   "outputs": [],
   "source": []
  }
 ],
 "metadata": {
  "kernelspec": {
   "display_name": "dev_beta_umd",
   "language": "python",
   "name": "dev_beta_umd"
  },
  "language_info": {
   "codemirror_mode": {
    "name": "ipython",
    "version": 3
   },
   "file_extension": ".py",
   "mimetype": "text/x-python",
   "name": "python",
   "nbconvert_exporter": "python",
   "pygments_lexer": "ipython3",
   "version": "3.9.12"
  }
 },
 "nbformat": 4,
 "nbformat_minor": 5
}

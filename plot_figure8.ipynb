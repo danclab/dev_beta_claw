{
 "cells": [
  {
   "cell_type": "code",
   "execution_count": 1,
   "id": "3d3a998f",
   "metadata": {
    "scrolled": true
   },
   "outputs": [
    {
     "name": "stdout",
     "output_type": "stream",
     "text": [
      "Importing the dtw module. When using in academic works please cite:\n",
      "  T. Giorgino. Computing and Visualizing Dynamic Time Warping Alignments in R: The dtw Package.\n",
      "  J. Stat. Soft., doi:10.18637/jss.v031.i07.\n",
      "\n"
     ]
    }
   ],
   "source": [
    "import pandas as pd\n",
    "import os\n",
    "import os.path as op\n",
    "import h5py\n",
    "import numpy as np\n",
    "import scipy.io\n",
    "import matplotlib.pyplot as plt\n",
    "from dtw import *\n",
    "from sklearn.decomposition import PCA\n",
    "from sklearn.preprocessing import RobustScaler\n",
    "from scipy.stats import binned_statistic, pearsonr, linregress\n",
    "from tqdm.notebook import trange, tqdm\n",
    "from scipy.ndimage import gaussian_filter1d\n",
    "from mne.stats import permutation_cluster_test, permutation_cluster_1samp_test, ttest_1samp_no_p\n",
    "from functools import partial\n",
    "from matplotlib import colors\n",
    "from mpl_toolkits.axes_grid1 import make_axes_locatable\n",
    "from mne.io import read_epochs_eeglab"
   ]
  },
  {
   "cell_type": "code",
   "execution_count": 2,
   "id": "08e33d7c",
   "metadata": {},
   "outputs": [],
   "source": [
    "pipeline='NEARICA_behav'\n",
    "ages=['9m','12m','adult']\n",
    "condition_epochs={\n",
    "    'exe': ['LEXT','FTGE','EXGC','EXEND'],\n",
    "    'obs': ['LOBS','FTGO','OBGC','OBEND']\n",
    "}\n",
    "\n",
    "epoch_time_limits={\n",
    "    'LEXT': [-1500,1000],\n",
    "    'FTGE': [-500,1000],\n",
    "    'EXGC': [-1000,1500],\n",
    "    'EXEND': [-1500,1500],\n",
    "    'LOBS': [-1500,1000],\n",
    "    'FTGO': [-500,1000],\n",
    "    'OBGC': [-1000,1500],\n",
    "    'OBEND': [-1500,1500],\n",
    "}\n",
    "\n",
    "def load_bursts(pipeline, age):\n",
    "    bursts = {\n",
    "        'age': [],\n",
    "        'subject': [],\n",
    "        'chan': [],\n",
    "        'cluster': [],\n",
    "        'epoch': [],\n",
    "        'fwhm_freq': [],\n",
    "        'fwhm_time': [],\n",
    "        'peak_adjustment': [],\n",
    "        'peak_amp_base': [],\n",
    "        'peak_amp_iter': [],\n",
    "        'peak_freq': [],\n",
    "        'peak_time': [],\n",
    "        'polarity': [],\n",
    "        'trial': [],\n",
    "        'waveform': [],        \n",
    "        'waveform_times': []\n",
    "    }\n",
    "\n",
    "    subjects=pd.read_csv(op.join('/home/bonaiuto/dev_beta_umd/data',age,'data/participants.tsv'), sep='\\t')\n",
    "    for subject in subjects['participant_id']:\n",
    "        print('loading {}'.format(subject))\n",
    "        fname=op.join('/home/bonaiuto/dev_beta_umd/data',age,'derivatives',pipeline,subject,'processed_data/processed_bursts.mat')\n",
    "        if os.path.exists(fname):\n",
    "            with h5py.File(fname, 'r') as f:\n",
    "                bursts['age'].extend([age for x in list(f['bursts']['trial'])])\n",
    "                bursts['subject'].extend([subject for x in list(f['bursts']['trial'])])\n",
    "                bursts['chan'].extend(list(np.squeeze(f['bursts']['chan'][:])))\n",
    "                bursts['cluster'].extend([u''.join(chr(c) for c in np.squeeze(f[obj_ref][:])) for obj_ref in np.squeeze(f['bursts']['cluster'][:])])\n",
    "                bursts['epoch'].extend([u''.join(chr(c) for c in np.squeeze(f[obj_ref][:])) for obj_ref in np.squeeze(f['bursts']['epoch'][:])])\n",
    "                bursts['fwhm_freq'].extend(list(np.squeeze(f['bursts']['fwhm_freq'][:])))\n",
    "                bursts['fwhm_time'].extend(list(np.squeeze(f['bursts']['fwhm_time'][:])))\n",
    "                bursts['peak_adjustment'].extend(list(np.squeeze(f['bursts']['peak_adjustment'][:])))\n",
    "                bursts['peak_amp_base'].extend(list(np.squeeze(f['bursts']['peak_amp_base'][:])))\n",
    "                bursts['peak_amp_iter'].extend(list(np.squeeze(f['bursts']['peak_amp_iter'][:])))\n",
    "                bursts['peak_freq'].extend(list(np.squeeze(f['bursts']['peak_freq'][:])))\n",
    "                bursts['peak_time'].extend(list(np.squeeze(f['bursts']['peak_time'][:])))\n",
    "                bursts['polarity'].extend(list(np.squeeze(f['bursts']['polarity'][:])))\n",
    "                bursts['trial'].extend(list(np.squeeze(f['bursts']['trial'][:])))\n",
    "                for i in range(f['bursts']['waveform'][:,:].shape[1]):\n",
    "                    bursts['waveform'].append(f['bursts']['waveform'][:,i])\n",
    "                bursts['waveform_times']=f['bursts']['waveform_times'][:]\n",
    "                \n",
    "    bursts['age']=np.array(bursts['age'])\n",
    "    bursts['subject']=np.array(bursts['subject'])\n",
    "    bursts['chan']=np.array(bursts['chan'])\n",
    "    bursts['cluster']=np.array(bursts['cluster'])\n",
    "    bursts['epoch']=np.array(bursts['epoch'])\n",
    "    bursts['fwhm_freq']=np.array(bursts['fwhm_freq'])\n",
    "    bursts['fwhm_time']=np.array(bursts['fwhm_time'])\n",
    "    bursts['peak_adjustment']=np.array(bursts['peak_adjustment'])\n",
    "    bursts['peak_amp_base']=np.array(bursts['peak_amp_base'])\n",
    "    bursts['peak_amp_iter']=np.array(bursts['peak_amp_iter'])\n",
    "    bursts['peak_freq']=np.array(bursts['peak_freq'])\n",
    "    bursts['peak_time']=np.array(bursts['peak_time'])\n",
    "    bursts['polarity']=np.array(bursts['polarity'])\n",
    "    bursts['trial']=np.array(bursts['trial'])\n",
    "    bursts['waveform']=np.array(bursts['waveform'])\n",
    "    bursts['waveform_times']=np.array(bursts['waveform_times'])\n",
    "    \n",
    "    return bursts"
   ]
  },
  {
   "cell_type": "code",
   "execution_count": 3,
   "id": "83ffe85c",
   "metadata": {},
   "outputs": [],
   "source": [
    "def combine_bursts(bursts_9m, bursts_12m, bursts_adult):\n",
    "    bursts = {\n",
    "        'age': [],\n",
    "        'subject': [],\n",
    "        'chan': [],\n",
    "        'cluster': [],\n",
    "        'epoch': [],\n",
    "        'fwhm_freq': [],\n",
    "        'fwhm_time': [],\n",
    "        'peak_adjustment': [],\n",
    "        'peak_amp_base': [],\n",
    "        'peak_amp_iter': [],\n",
    "        'peak_freq': [],\n",
    "        'peak_time': [],\n",
    "        'polarity': [],\n",
    "        'trial': [],\n",
    "        'waveform': [],        \n",
    "        'waveform_times': []\n",
    "    }\n",
    "\n",
    "    for age, age_bursts in zip(['9m','12m','adult'], [bursts_9m, bursts_12m, bursts_adult]):\n",
    "        bursts['age'].extend([age for x in list(age_bursts['trial'])])\n",
    "        bursts['subject'].extend(['{}_{}'.format(x,age) for x in list(age_bursts['subject'])])\n",
    "        bursts['chan'].extend([x for x in list(age_bursts['chan'])])\n",
    "        bursts['cluster'].extend([x for x in list(age_bursts['cluster'])])\n",
    "        bursts['epoch'].extend([x for x in list(age_bursts['epoch'])])\n",
    "        bursts['fwhm_freq'].extend([x for x in list(age_bursts['fwhm_freq'])])\n",
    "        bursts['fwhm_time'].extend([x for x in list(age_bursts['fwhm_time'])])\n",
    "        bursts['peak_adjustment'].extend([x for x in list(age_bursts['peak_adjustment'])])\n",
    "        bursts['peak_amp_base'].extend([x for x in list(age_bursts['peak_amp_base'])])\n",
    "        bursts['peak_amp_iter'].extend([x for x in list(age_bursts['peak_amp_iter'])])\n",
    "        bursts['peak_freq'].extend([x for x in list(age_bursts['peak_freq'])])\n",
    "        bursts['peak_time'].extend([x for x in list(age_bursts['peak_time'])])\n",
    "        bursts['polarity'].extend([x for x in list(age_bursts['polarity'])])\n",
    "        bursts['trial'].extend([x for x in list(age_bursts['trial'])])\n",
    "    \n",
    "    bursts['age']=np.array(bursts['age'])\n",
    "    bursts['subject']=np.array(bursts['subject'])\n",
    "    bursts['chan']=np.array(bursts['chan'])\n",
    "    bursts['cluster']=np.array(bursts['cluster'])\n",
    "    bursts['epoch']=np.array(bursts['epoch'])\n",
    "    bursts['fwhm_freq']=np.array(bursts['fwhm_freq'])\n",
    "    bursts['fwhm_time']=np.array(bursts['fwhm_time'])\n",
    "    bursts['peak_adjustment']=np.array(bursts['peak_adjustment'])\n",
    "    bursts['peak_amp_base']=np.array(bursts['peak_amp_base'])\n",
    "    bursts['peak_amp_iter']=np.array(bursts['peak_amp_iter'])\n",
    "    bursts['peak_freq']=np.array(bursts['peak_freq'])\n",
    "    bursts['peak_time']=np.array(bursts['peak_time'])\n",
    "    bursts['polarity']=np.array(bursts['polarity'])\n",
    "    bursts['trial']=np.array(bursts['trial'])\n",
    "    \n",
    "    return bursts"
   ]
  },
  {
   "cell_type": "code",
   "execution_count": 4,
   "id": "5ef2f9aa",
   "metadata": {},
   "outputs": [],
   "source": [
    "def shuffle_array(array):\n",
    "    X_array = array.copy()\n",
    "    rows, columns = array.shape\n",
    "    for col in range(columns):\n",
    "        ixes = np.arange(0,rows)\n",
    "        np.random.shuffle(ixes)\n",
    "        X_array[:,col] = X_array[:,col][ixes]\n",
    "    return X_array\n",
    "\n",
    "def shuffle_array_range(array, ranges):\n",
    "    X_array = []\n",
    "    for x1, x2 in ranges:\n",
    "        X = wvf[:,x1:x2]\n",
    "        np.random.shuffle(X)\n",
    "        X_array.append(X)\n",
    "    return np.hstack(X_array)\n",
    "\n",
    "def get_num_components(waveforms, n_comps):\n",
    "    # robust scaling\n",
    "    waveforms_scaled = RobustScaler().fit_transform(waveforms)\n",
    "\n",
    "    # main PCA fitting\n",
    "    pca_full = PCA(n_components=n_comps)\n",
    "    pcs_full = pca_full.fit_transform(waveforms_scaled)\n",
    "    var_full = pca_full.explained_variance_ratio_ \n",
    "\n",
    "    # robustness of pca components\n",
    "    no_of_iter = 100\n",
    "    pca_vars = []\n",
    "    for i in range(no_of_iter):\n",
    "        shuffled_wvf = shuffle_array(waveforms_scaled)\n",
    "\n",
    "        pca_shuff = PCA(n_components=n_comps)\n",
    "        pca_shuff.fit(shuffled_wvf)\n",
    "        pca_vars.append(pca_shuff.explained_variance_ratio_)        \n",
    "    del shuffled_wvf\n",
    "    pca_vars=np.array(pca_vars)\n",
    "\n",
    "    # getting the magic number\n",
    "    results = np.sum(var_full>pca_vars, axis=0) / no_of_iter\n",
    "    threshold=1-(.05/n_comps)\n",
    "    PCS_to_analyse = len(np.where(results > threshold)[0])\n",
    "    return PCS_to_analyse\n"
   ]
  },
  {
   "cell_type": "code",
   "execution_count": 5,
   "id": "84a654c0",
   "metadata": {
    "scrolled": true
   },
   "outputs": [
    {
     "name": "stdout",
     "output_type": "stream",
     "text": [
      "loading sub-010\n",
      "loading sub-012\n",
      "loading sub-013\n",
      "loading sub-014\n",
      "loading sub-015\n",
      "loading sub-016\n",
      "loading sub-018\n",
      "loading sub-019\n",
      "loading sub-020\n",
      "loading sub-021\n",
      "loading sub-023\n",
      "loading sub-024\n",
      "loading sub-025\n",
      "loading sub-026\n",
      "loading sub-027\n",
      "loading sub-028\n",
      "loading sub-029\n",
      "loading sub-030\n",
      "loading sub-031\n",
      "loading sub-032\n",
      "loading sub-033\n",
      "loading sub-036\n",
      "loading sub-037\n",
      "loading sub-038\n",
      "loading sub-041\n",
      "loading sub-042\n",
      "loading sub-043\n",
      "loading sub-044\n"
     ]
    }
   ],
   "source": [
    "c_bursts_9m=load_bursts(pipeline, '9m')"
   ]
  },
  {
   "cell_type": "code",
   "execution_count": 6,
   "id": "3476d279",
   "metadata": {
    "scrolled": true
   },
   "outputs": [
    {
     "name": "stdout",
     "output_type": "stream",
     "text": [
      "loading sub-001\n",
      "loading sub-002\n",
      "loading sub-003\n",
      "loading sub-004\n",
      "loading sub-005\n",
      "loading sub-006\n",
      "loading sub-007\n",
      "loading sub-008\n",
      "loading sub-009\n",
      "loading sub-010\n",
      "loading sub-011\n",
      "loading sub-012\n",
      "loading sub-013\n",
      "loading sub-014\n",
      "loading sub-015\n",
      "loading sub-016\n",
      "loading sub-017\n",
      "loading sub-018\n",
      "loading sub-019\n",
      "loading sub-020\n",
      "loading sub-021\n",
      "loading sub-022\n",
      "loading sub-023\n",
      "loading sub-024\n",
      "loading sub-025\n",
      "loading sub-026\n",
      "loading sub-027\n",
      "loading sub-028\n",
      "loading sub-029\n",
      "loading sub-030\n",
      "loading sub-031\n",
      "loading sub-032\n",
      "loading sub-033\n"
     ]
    }
   ],
   "source": [
    "c_bursts_12m=load_bursts(pipeline, '12m')"
   ]
  },
  {
   "cell_type": "code",
   "execution_count": 7,
   "id": "41f9ba80",
   "metadata": {
    "scrolled": true
   },
   "outputs": [
    {
     "name": "stdout",
     "output_type": "stream",
     "text": [
      "loading sub-001\n",
      "loading sub-002\n",
      "loading sub-003\n",
      "loading sub-004\n",
      "loading sub-005\n",
      "loading sub-006\n",
      "loading sub-007\n",
      "loading sub-008\n",
      "loading sub-009\n",
      "loading sub-010\n",
      "loading sub-011\n",
      "loading sub-012\n",
      "loading sub-013\n",
      "loading sub-014\n",
      "loading sub-015\n",
      "loading sub-016\n",
      "loading sub-017\n",
      "loading sub-018\n",
      "loading sub-019\n",
      "loading sub-020\n",
      "loading sub-021\n",
      "loading sub-022\n"
     ]
    }
   ],
   "source": [
    "c_bursts_adult=load_bursts(pipeline, 'adult')"
   ]
  },
  {
   "cell_type": "code",
   "execution_count": 8,
   "id": "b2fc05e5",
   "metadata": {},
   "outputs": [],
   "source": [
    "all_bursts=combine_bursts(c_bursts_9m, c_bursts_12m, c_bursts_adult)"
   ]
  },
  {
   "cell_type": "code",
   "execution_count": 9,
   "id": "3e7d1b7b",
   "metadata": {},
   "outputs": [],
   "source": [
    "c_burst_times_9m=c_bursts_9m['waveform_times']\n",
    "c_burst_times_12m=c_bursts_12m['waveform_times']\n",
    "c_burst_times_adult=c_bursts_adult['waveform_times']\n",
    "med_c_9m=np.percentile(c_bursts_9m['waveform'], 50, axis=0)\n",
    "med_c_12m=np.percentile(c_bursts_12m['waveform'], 50, axis=0)\n",
    "med_c_adult=np.percentile(c_bursts_adult['waveform'], 50, axis=0)\n",
    "norm_c_adult=med_c_adult/np.max(med_c_adult)\n",
    "norm_c_12m=med_c_12m/np.max(med_c_12m)\n",
    "norm_c_9m=med_c_9m/np.max(med_c_9m)\n",
    "alignment_c_9m=dtw(norm_c_9m, norm_c_adult, keep_internals=True, step_pattern=rabinerJuangStepPattern(5,\"c\"))\n",
    "aligned_c_9m_idx=warp(alignment_c_9m,index_reference=False)\n",
    "alignment_c_12m=dtw(norm_c_12m, norm_c_adult, keep_internals=True, step_pattern=rabinerJuangStepPattern(5,\"c\"))\n",
    "aligned_c_12m_idx=warp(alignment_c_12m,index_reference=False)\n",
    "aligned_c_9m_bursts=c_bursts_9m['waveform'][:,aligned_c_9m_idx]\n",
    "aligned_c_12m_bursts=c_bursts_12m['waveform'][:,aligned_c_12m_idx]\n",
    "aligned_c_adult_bursts=c_bursts_adult['waveform'][:,:-1]"
   ]
  },
  {
   "cell_type": "code",
   "execution_count": 10,
   "id": "fa64d05f",
   "metadata": {},
   "outputs": [],
   "source": [
    "burst_std_c_9m=RobustScaler().fit_transform(c_bursts_9m['waveform'])\n",
    "burst_std_warped_9m=RobustScaler().fit_transform(aligned_c_9m_bursts)\n",
    "\n",
    "burst_std_c_12m=RobustScaler().fit_transform(c_bursts_12m['waveform'])\n",
    "burst_std_warped_12m=RobustScaler().fit_transform(aligned_c_12m_bursts)"
   ]
  },
  {
   "cell_type": "code",
   "execution_count": 11,
   "id": "3b42d68a",
   "metadata": {},
   "outputs": [],
   "source": [
    "pca_9m = PCA(n_components=20)\n",
    "pca_9m=pca_9m.fit(burst_std_c_9m)\n",
    "pcs_9m = pca_9m.transform(burst_std_c_9m)\n",
    "\n",
    "pca_warped_9m = PCA(n_components=20)\n",
    "pca_warped_9m=pca_warped_9m.fit(burst_std_warped_9m)\n",
    "pcs_warped_9m = pca_warped_9m.transform(burst_std_warped_9m)\n",
    "\n",
    "pca_12m = PCA(n_components=20)\n",
    "pca_12m=pca_12m.fit(burst_std_c_12m)\n",
    "pcs_12m = pca_12m.transform(burst_std_c_12m)\n",
    "\n",
    "pca_warped_12m = PCA(n_components=20)\n",
    "pca_warped_12m=pca_warped_12m.fit(burst_std_warped_12m)\n",
    "pcs_warped_12m = pca_warped_12m.transform(burst_std_warped_12m)"
   ]
  },
  {
   "cell_type": "code",
   "execution_count": 12,
   "id": "617be814",
   "metadata": {},
   "outputs": [],
   "source": [
    "def shuffle_array(array):\n",
    "    X_array = array.copy()\n",
    "    rows, columns = array.shape\n",
    "    for col in range(columns):\n",
    "        ixes = np.arange(0,rows)\n",
    "        np.random.shuffle(ixes)\n",
    "        X_array[:,col] = X_array[:,col][ixes]\n",
    "    return X_array\n",
    "\n",
    "def shuffle_array_range(array, ranges):\n",
    "    X_array = []\n",
    "    for x1, x2 in ranges:\n",
    "        X = wvf[:,x1:x2]\n",
    "        np.random.shuffle(X)\n",
    "        X_array.append(X)\n",
    "    return np.hstack(X_array)\n",
    "\n",
    "def get_num_components(waveforms, n_comps):\n",
    "    # robust scaling\n",
    "    waveforms_scaled = RobustScaler().fit_transform(waveforms)\n",
    "\n",
    "    # main PCA fitting\n",
    "    pca_full = PCA(n_components=n_comps)\n",
    "    pcs_full = pca_full.fit_transform(waveforms_scaled)\n",
    "    var_full = pca_full.explained_variance_ratio_ \n",
    "\n",
    "    # robustness of pca components\n",
    "    no_of_iter = 100\n",
    "    pca_vars = []\n",
    "    for i in range(no_of_iter):\n",
    "        shuffled_wvf = shuffle_array(waveforms_scaled)\n",
    "\n",
    "        pca_shuff = PCA(n_components=n_comps)\n",
    "        pca_shuff.fit(shuffled_wvf)\n",
    "        pca_vars.append(pca_shuff.explained_variance_ratio_)        \n",
    "    del shuffled_wvf\n",
    "    pca_vars=np.array(pca_vars)\n",
    "\n",
    "    # getting the magic number\n",
    "    results = np.sum(var_full>pca_vars, axis=0) / no_of_iter\n",
    "    threshold=1-(.05/n_comps)\n",
    "    PCS_to_analyse = len(np.where(results > threshold)[0])\n",
    "    return PCS_to_analyse"
   ]
  },
  {
   "cell_type": "code",
   "execution_count": 13,
   "id": "9f11fa89",
   "metadata": {},
   "outputs": [
    {
     "name": "stdout",
     "output_type": "stream",
     "text": [
      "6 components explain 81.604425589367% of variance\n",
      "C: 6\n"
     ]
    }
   ],
   "source": [
    "cum_var_exp=np.cumsum(pca_9m.explained_variance_ratio_)\n",
    "if len(np.where(cum_var_exp>=.8)[0]):\n",
    "    idx=np.min(np.where(cum_var_exp>=.8)[0])\n",
    "else:\n",
    "    idx=len(cum_var_exp)-1\n",
    "print('{} components explain {}% of variance'.format(idx+1,cum_var_exp[idx]*100))\n",
    "\n",
    "pcs_to_analyze_c_9m=get_num_components(burst_std_c_9m, idx+1)\n",
    "print('C: {}'.format(pcs_to_analyze_c_9m))"
   ]
  },
  {
   "cell_type": "code",
   "execution_count": 14,
   "id": "8a028887",
   "metadata": {},
   "outputs": [
    {
     "name": "stdout",
     "output_type": "stream",
     "text": [
      "6 components explain 81.9080017578807% of variance\n",
      "C: 6\n"
     ]
    }
   ],
   "source": [
    "cum_var_exp=np.cumsum(pca_warped_9m.explained_variance_ratio_)\n",
    "if len(np.where(cum_var_exp>=.8)[0]):\n",
    "    idx=np.min(np.where(cum_var_exp>=.8)[0])\n",
    "else:\n",
    "    idx=len(cum_var_exp)-1\n",
    "print('{} components explain {}% of variance'.format(idx+1,cum_var_exp[idx]*100))\n",
    "\n",
    "pcs_to_analyze_warped_9m=get_num_components(burst_std_warped_9m, idx+1)\n",
    "print('C: {}'.format(pcs_to_analyze_warped_9m))"
   ]
  },
  {
   "cell_type": "code",
   "execution_count": 15,
   "id": "62311f14",
   "metadata": {},
   "outputs": [
    {
     "name": "stdout",
     "output_type": "stream",
     "text": [
      "6 components explain 83.36774464564571% of variance\n",
      "C: 6\n"
     ]
    }
   ],
   "source": [
    "cum_var_exp=np.cumsum(pca_12m.explained_variance_ratio_)\n",
    "if len(np.where(cum_var_exp>=.8)[0]):\n",
    "    idx=np.min(np.where(cum_var_exp>=.8)[0])\n",
    "else:\n",
    "    idx=len(cum_var_exp)-1\n",
    "print('{} components explain {}% of variance'.format(idx+1,cum_var_exp[idx]*100))\n",
    "\n",
    "pcs_to_analyze_c_12m=get_num_components(burst_std_c_12m, idx+1)\n",
    "print('C: {}'.format(pcs_to_analyze_c_12m))"
   ]
  },
  {
   "cell_type": "code",
   "execution_count": 16,
   "id": "d53f6e9f",
   "metadata": {},
   "outputs": [
    {
     "name": "stdout",
     "output_type": "stream",
     "text": [
      "5 components explain 80.62117529730737% of variance\n",
      "C: 5\n"
     ]
    }
   ],
   "source": [
    "cum_var_exp=np.cumsum(pca_warped_12m.explained_variance_ratio_)\n",
    "if len(np.where(cum_var_exp>=.8)[0]):\n",
    "    idx=np.min(np.where(cum_var_exp>=.8)[0])\n",
    "else:\n",
    "    idx=len(cum_var_exp)-1\n",
    "print('{} components explain {}% of variance'.format(idx+1,cum_var_exp[idx]*100))\n",
    "\n",
    "pcs_to_analyze_warped_12m=get_num_components(burst_std_warped_12m, idx+1)\n",
    "print('C: {}'.format(pcs_to_analyze_warped_12m))"
   ]
  },
  {
   "cell_type": "code",
   "execution_count": 17,
   "id": "bc76eed2",
   "metadata": {},
   "outputs": [],
   "source": [
    "pcs_to_analyze_c=10"
   ]
  },
  {
   "cell_type": "code",
   "execution_count": 18,
   "id": "db879861",
   "metadata": {},
   "outputs": [
    {
     "data": {
      "image/png": "[encoded data removed]",
      "text/plain": [
       "<Figure size 576x576 with 5 Axes>"
      ]
     },
     "metadata": {
      "needs_background": "light"
     },
     "output_type": "display_data"
    }
   ],
   "source": [
    "corrmat_9m=np.zeros((pcs_to_analyze_c,pcs_to_analyze_c))\n",
    "corrmat_12m=np.zeros((pcs_to_analyze_c,pcs_to_analyze_c))\n",
    "for i in range(pcs_to_analyze_c):\n",
    "    for j in range(pcs_to_analyze_c):\n",
    "        res=pearsonr(pcs_warped_9m[:,i],pcs_9m[:,j])\n",
    "        corrmat_9m[i,j]=np.abs(res[0])\n",
    "        res=pearsonr(pcs_warped_12m[:,i],pcs_12m[:,j])\n",
    "        corrmat_12m[i,j]=np.abs(res[0])\n",
    "\n",
    "plt.rcParams.update({\n",
    "    'font.size': 14,\n",
    "    'axes.spines.right': False,\n",
    "    'axes.spines.top': False,\n",
    "    'xtick.major.size': 6,\n",
    "    'xtick.major.width': 1.2,\n",
    "    'ytick.major.size': 6,\n",
    "    'ytick.major.width': 1.2,\n",
    "    'legend.frameon': False,\n",
    "    'legend.handletextpad': 0.1,\n",
    "    'svg.fonttype': 'none',\n",
    "    'text.usetex': False\n",
    "})\n",
    "fig=plt.figure(figsize=(8,8))\n",
    "\n",
    "ax=plt.subplot(2,2,1)\n",
    "plt.plot(pcs_warped_9m[:,0:pcs_to_analyze_c],pcs_9m[:,0:pcs_to_analyze_c],'.',alpha=.1,rasterized=True)\n",
    "plt.xlim([-50,50])\n",
    "plt.ylim([-50,50])\n",
    "plt.xlabel('9m warped PCA score')\n",
    "plt.ylabel('unwarped PCA score')\n",
    "\n",
    "plt.subplot(2,2,2)\n",
    "for i in range(pcs_to_analyze_c):\n",
    "    plt.plot(pcs_warped_12m[:,i],pcs_12m[:,i],'.',alpha=.1,rasterized=True,label='PC{}'.format(i+1))\n",
    "plt.xlim([-50,50])\n",
    "plt.ylim([-50,50])\n",
    "plt.xlabel('12m warped PCA score')\n",
    "\n",
    "ax=plt.subplot(2,2,3)\n",
    "i1=ax.imshow(corrmat_9m, aspect='auto', origin='upper',\n",
    "             extent=[1, pcs_to_analyze_c, pcs_to_analyze_c, 1])\n",
    "i1.set_clim([0,1])\n",
    "ax.set_xticks([2,4,6,8,10])\n",
    "ax.set_yticks([2,4,6,8,10])\n",
    "ax.set_xlabel('9m warped PC')\n",
    "ax.set_ylabel('unwarped PC')\n",
    "\n",
    "ax=plt.subplot(2,2,4)\n",
    "i1=ax.imshow(corrmat_12m, aspect='auto', origin='upper',\n",
    "             extent=[1, pcs_to_analyze_c, pcs_to_analyze_c, 1])\n",
    "i1.set_clim([0,1])\n",
    "ax.set_xticks([2,4,6,8,10])\n",
    "ax.set_yticks([2,4,6,8,10])\n",
    "ax.set_xlabel('12m warped PC')\n",
    "divider = make_axes_locatable(ax)\n",
    "cax = divider.append_axes(\"right\", size=\"5%\", pad=0.05)\n",
    "cb=plt.colorbar(i1, cax=cax)\n",
    "cb.set_label('|r|', rotation=270)\n",
    "\n",
    "plt.tight_layout()\n",
    "\n",
    "plt.savefig('/home/bonaiuto/dev_beta_umd/output/figures/figure8.svg')\n",
    "plt.savefig('/home/bonaiuto/dev_beta_umd/output/figures/figure8.png')"
   ]
  },
  {
   "cell_type": "code",
   "execution_count": 19,
   "id": "0e3245bd",
   "metadata": {},
   "outputs": [
    {
     "name": "stdout",
     "output_type": "stream",
     "text": [
      "[0.99918562 0.99890919 0.99853881 0.99748764 0.99582133 0.99277267\n",
      " 0.97823556 0.97403757 0.95861044 0.76619006]\n",
      "[0.99677885 0.99803971 0.97801082 0.98101018 0.98772222 0.97560172\n",
      " 0.94700943 0.94673779 0.66538818 0.56680474]\n"
     ]
    }
   ],
   "source": [
    "print(np.max(corrmat_9m,axis=0))\n",
    "print(np.max(corrmat_12m,axis=0))"
   ]
  },
  {
   "cell_type": "code",
   "execution_count": null,
   "id": "0ac8b513",
   "metadata": {},
   "outputs": [],
   "source": []
  }
 ],
 "metadata": {
  "kernelspec": {
   "display_name": "dev_beta_umd",
   "language": "python",
   "name": "dev_beta_umd"
  },
  "language_info": {
   "codemirror_mode": {
    "name": "ipython",
    "version": 3
   },
   "file_extension": ".py",
   "mimetype": "text/x-python",
   "name": "python",
   "nbconvert_exporter": "python",
   "pygments_lexer": "ipython3",
   "version": "3.9.12"
  }
 },
 "nbformat": 4,
 "nbformat_minor": 5
}

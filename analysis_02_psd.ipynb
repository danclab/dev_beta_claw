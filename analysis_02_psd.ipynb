{
 "cells": [
  {
   "cell_type": "code",
   "execution_count": 60,
   "id": "76ad49c9",
   "metadata": {},
   "outputs": [],
   "source": [
    "import os.path as op\n",
    "import numpy as np\n",
    "import matplotlib.pyplot as plt\n",
    "import scipy.signal\n",
    "import pandas as pd\n",
    "from fooof import FOOOF, FOOOFGroup, fit_fooof_3d\n",
    "from fooof.sim.gen import gen_aperiodic\n",
    "from mne.io import read_epochs_eeglab\n",
    "from sklearn.neighbors import KernelDensity"
   ]
  },
  {
   "cell_type": "code",
   "execution_count": 61,
   "id": "c9eb13bb",
   "metadata": {},
   "outputs": [],
   "source": [
    "pipeline='NEARICA_behav'\n",
    "c_cluster_chans=['E16', 'E20', 'E21', 'E22','E41', 'E49', 'E50', 'E51']\n",
    "n_chans=64"
   ]
  },
  {
   "cell_type": "code",
   "execution_count": 52,
   "id": "f7e5f71e",
   "metadata": {
    "scrolled": true
   },
   "outputs": [],
   "source": [
    "def compute_psds(age):\n",
    "    subjects=pd.read_csv(op.join('/home/bonaiuto/dev_beta_umd/data',age,'data/participants.tsv'), sep='\\t')\n",
    "\n",
    "    subject_ids = subjects['participant_id']\n",
    "\n",
    "    sub_psds=[]\n",
    "    for subj_id in subject_ids:\n",
    "        subject_data_fname=op.join('/home/bonaiuto/dev_beta_umd/data',age,'derivatives', pipeline, \n",
    "                                   subj_id, 'processed_data', '{}_task-tool_obs_exe_eeg_processed_data.set'.format(subj_id))\n",
    "        if op.exists(subject_data_fname):\n",
    "            EEG=read_epochs_eeglab(subject_data_fname)\n",
    "            srate=EEG.info['sfreq']\n",
    "\n",
    "            c_chan_idx=[]\n",
    "            for chan in c_cluster_chans:\n",
    "                c_chan_idx.append(EEG.info['ch_names'].index(chan))\n",
    "            \n",
    "            data=EEG.get_data()\n",
    "            n_trials=data.shape[0]\n",
    "            n_chans=data.shape[1]\n",
    "            n_samps=data.shape[2]\n",
    "\n",
    "            if n_trials>=5:\n",
    "\n",
    "                # Use a window size of 1s with a 50% overlap\n",
    "                winsize=srate\n",
    "                overlap=int(winsize/2)    \n",
    "\n",
    "                chan_psd=np.zeros((n_chans,400))\n",
    "                for chan in range(n_chans):\n",
    "                    chan_data=data[:,chan,:]\n",
    "\n",
    "                    freqs,psd=scipy.signal.welch(chan_data, fs=srate, window='hann', \n",
    "                                                 nperseg=winsize, noverlap=overlap, nfft=2000, detrend='constant',\n",
    "                                                 return_onesided=True, scaling='density', axis=- 1, average='mean')\n",
    "                    f_idx=(freqs>=.1) & (freqs<=100)\n",
    "                    freqs=freqs[f_idx]\n",
    "                    psd=psd[:,f_idx]\n",
    "                    chan_psd[chan,:]=np.mean(psd,axis=0)        \n",
    "                sub_psds.append(chan_psd)\n",
    "    sub_psds=np.array(sub_psds)\n",
    "    return c_chan_idx, freqs, sub_psds"
   ]
  },
  {
   "cell_type": "code",
   "execution_count": 53,
   "id": "d9915d84",
   "metadata": {},
   "outputs": [],
   "source": [
    "def parameterize_psds(freqs, sub_psds):\n",
    "    fg = FOOOFGroup()\n",
    "    fgs=fit_fooof_3d(fg, freqs, sub_psds, [.1, 100])\n",
    "    \n",
    "    sub_periodic=np.zeros(sub_psds.shape)\n",
    "    sub_aperiodic=np.zeros(sub_psds.shape)\n",
    "    for s_idx, fg in enumerate(fgs):\n",
    "        for chan in range(n_chans):\n",
    "            if chan in fg.null_inds_:\n",
    "                sub_aperiodic[s_idx,chan,:]=float('NaN')\n",
    "                sub_periodic[s_idx,chan,:]=float('NaN')\n",
    "            else:\n",
    "                fm = fg.get_fooof(ind=chan, regenerate=True)\n",
    "                ap_params=fm.get_params('aperiodic_params')\n",
    "                sub_aperiodic[s_idx,chan,:] = gen_aperiodic(freqs, ap_params)\n",
    "                sub_periodic[s_idx,chan,:]=np.log10(sub_psds[s_idx,chan,:])-sub_aperiodic[s_idx,chan,:]\n",
    "    return fgs, sub_periodic, sub_aperiodic"
   ]
  },
  {
   "cell_type": "code",
   "execution_count": 54,
   "id": "01fcceeb",
   "metadata": {},
   "outputs": [],
   "source": [
    "def define_fois(freqs, mean_psd, debug=False):\n",
    "    mean_resid=mean_psd\n",
    "    foi_pk_freqs=[]\n",
    "    foi_pk_vals=[]    \n",
    "    foi_fwhms=[]\n",
    "    foi_ranges=[]\n",
    "    orig_pks,properties=scipy.signal.find_peaks(mean_resid)\n",
    "    while True:\n",
    "        pks,properties=scipy.signal.find_peaks(mean_resid)\n",
    "\n",
    "        pk_vals=mean_resid[pks]\n",
    "        sorted_idx=np.argsort(-pk_vals)\n",
    "        pk_vals=pk_vals[sorted_idx]\n",
    "        pks=pks[sorted_idx]\n",
    "\n",
    "        pk_idx=pks[0]\n",
    "        pk_val=pk_vals[0]\n",
    "        pk_freq=freqs[pk_idx]\n",
    "        \n",
    "        if pk_val<np.std(mean_resid):\n",
    "            if debug:\n",
    "                print('Peak val={}, thresh={}'.format(pk_val,.5*np.std(mean_resid)))\n",
    "            break\n",
    "\n",
    "        \n",
    "        l_idx=np.where(mean_resid[:pk_idx]<=pk_val*.5)[0]\n",
    "        r_idx=np.where(mean_resid[pk_idx:]<=pk_val*.5)[0]\n",
    "\n",
    "        if len(l_idx) and len(r_idx):\n",
    "            l_freq=freqs[l_idx[-1]]\n",
    "            r_freq=freqs[pk_idx+r_idx[0]]\n",
    "            r_side=(r_freq-pk_freq)\n",
    "            l_side=(pk_freq-l_freq)\n",
    "            fwhm=2*np.min([r_side, l_side])\n",
    "        elif len(l_idx):\n",
    "            l_freq=freqs[l_idx[-1]]\n",
    "            fwhm=2*(pk_freq-l_freq)\n",
    "        elif len(r_idx):\n",
    "            r_freq=freqs[pk_idx+r_idx[0]+1]\n",
    "            fwhm=2*(r_freq-pk_freq)\n",
    "\n",
    "        l_freq=pk_freq-fwhm*.5\n",
    "        r_freq=pk_freq+fwhm*.5\n",
    "        sd=fwhm/(2*np.sqrt(2*np.log(2)))\n",
    "        A=pk_vals[0]*np.exp(-.5*((freqs-pk_freq)/sd)**2)\n",
    "        nearest_orig=np.min(np.abs(freqs[np.array(orig_pks)]-pk_freq))\n",
    "            \n",
    "        if pk_val>1.75*np.std(mean_resid) and ((pk_freq<10 and fwhm>1) or (pk_freq>=10 and fwhm>3)) and nearest_orig<3:\n",
    "            print('Peak: freq={}, val={}, width={}, range={}-{}'.format(pk_freq, pk_val, fwhm, pk_freq-fwhm*.5, pk_freq+fwhm*.5))\n",
    "            print('Distance to nearest original peak={}'.format(nearest_orig))\n",
    "            if debug:\n",
    "                plt.figure(figsize=(12,4))\n",
    "                plt.subplot(1,2,1)\n",
    "                plt.plot(freqs,mean_resid)\n",
    "                plt.plot(freqs[pks],mean_resid[pks],'ro')\n",
    "                plt.subplot(1,2,2)\n",
    "                plt.plot(freqs,mean_resid)\n",
    "                plt.plot(freqs,A)\n",
    "            \n",
    "            foi_pk_freqs.append(pk_freq)\n",
    "            foi_pk_vals.append(pk_val)\n",
    "            foi_fwhms.append(fwhm)\n",
    "            foi_ranges.append([l_freq,r_freq])\n",
    "        elif debug:\n",
    "            if not ((pk_freq<10 and fwhm>1) or (pk_freq>=10 and fwhm>3)):\n",
    "                print('Peak: freq={}, fhwm={} to narrow'.format(pk_freq, fwhm))\n",
    "            if pk_val<=2*np.std(mean_resid):\n",
    "                print('Peak: freq={} too low amplitude'.format(pk_freq))\n",
    "            if nearest_orig>=3:\n",
    "                print('Peak: freq={} too far from original peaks'.format(pk_freq))\n",
    "\n",
    "        mean_resid=mean_resid-A\n",
    "        #mean_resid[mean_resid<0]=0\n",
    "    sorted_idx=np.argsort(foi_pk_freqs)\n",
    "    \n",
    "    foi_pk_freqs=np.array(foi_pk_freqs)\n",
    "    foi_pk_vals=np.array(foi_pk_vals)\n",
    "    foi_fwhms=np.array(foi_fwhms)\n",
    "    foi_ranges=np.array(foi_ranges)\n",
    "    \n",
    "    foi_pk_freqs=foi_pk_freqs[sorted_idx]\n",
    "    foi_pk_vals=foi_pk_vals[sorted_idx]\n",
    "    foi_fwhms=foi_fwhms[sorted_idx]\n",
    "    foi_ranges=foi_ranges[sorted_idx,:]\n",
    "    \n",
    "    plt.figure()\n",
    "    plt.plot(freqs,mean_psd)\n",
    "    for f_idx in range(foi_ranges.shape[0]):\n",
    "        sd=foi_fwhms[f_idx]/(2*np.sqrt(2*np.log(2)))\n",
    "        A=foi_pk_vals[f_idx]*np.exp(-.5*((freqs-foi_pk_freqs[f_idx])/sd)**2)\n",
    "        plt.plot(freqs,A)\n",
    "    \n",
    "    return foi_pk_freqs,foi_pk_vals,foi_fwhms,foi_ranges"
   ]
  },
  {
   "cell_type": "code",
   "execution_count": 55,
   "id": "5dc65569",
   "metadata": {
    "scrolled": true
   },
   "outputs": [
    {
     "name": "stdout",
     "output_type": "stream",
     "text": [
      "Extracting parameters from /home/bonaiuto/dev_beta_umd/data/9m/derivatives/NEARICA_behav/sub-010/processed_data/sub-010_task-tool_obs_exe_eeg_processed_data.set...\n",
      "Not setting metadata\n",
      "152 matching events found\n",
      "No baseline correction applied\n",
      "0 projection items activated\n",
      "Ready.\n",
      "Extracting parameters from /home/bonaiuto/dev_beta_umd/data/9m/derivatives/NEARICA_behav/sub-012/processed_data/sub-012_task-tool_obs_exe_eeg_processed_data.set...\n",
      "Not setting metadata\n",
      "123 matching events found\n",
      "No baseline correction applied\n",
      "0 projection items activated\n",
      "Ready.\n",
      "Extracting parameters from /home/bonaiuto/dev_beta_umd/data/9m/derivatives/NEARICA_behav/sub-013/processed_data/sub-013_task-tool_obs_exe_eeg_processed_data.set...\n",
      "Not setting metadata\n",
      "82 matching events found\n",
      "No baseline correction applied\n",
      "0 projection items activated\n",
      "Ready.\n",
      "Extracting parameters from /home/bonaiuto/dev_beta_umd/data/9m/derivatives/NEARICA_behav/sub-014/processed_data/sub-014_task-tool_obs_exe_eeg_processed_data.set...\n",
      "Not setting metadata\n",
      "40 matching events found\n",
      "No baseline correction applied\n",
      "0 projection items activated\n",
      "Ready.\n",
      "Extracting parameters from /home/bonaiuto/dev_beta_umd/data/9m/derivatives/NEARICA_behav/sub-015/processed_data/sub-015_task-tool_obs_exe_eeg_processed_data.set...\n",
      "Not setting metadata\n",
      "71 matching events found\n",
      "No baseline correction applied\n",
      "0 projection items activated\n",
      "Ready.\n",
      "Extracting parameters from /home/bonaiuto/dev_beta_umd/data/9m/derivatives/NEARICA_behav/sub-016/processed_data/sub-016_task-tool_obs_exe_eeg_processed_data.set...\n",
      "Not setting metadata\n",
      "124 matching events found\n",
      "No baseline correction applied\n",
      "0 projection items activated\n",
      "Ready.\n",
      "Extracting parameters from /home/bonaiuto/dev_beta_umd/data/9m/derivatives/NEARICA_behav/sub-018/processed_data/sub-018_task-tool_obs_exe_eeg_processed_data.set...\n",
      "Not setting metadata\n",
      "185 matching events found\n",
      "No baseline correction applied\n",
      "0 projection items activated\n",
      "Ready.\n",
      "Extracting parameters from /home/bonaiuto/dev_beta_umd/data/9m/derivatives/NEARICA_behav/sub-019/processed_data/sub-019_task-tool_obs_exe_eeg_processed_data.set...\n",
      "Not setting metadata\n",
      "161 matching events found\n",
      "No baseline correction applied\n",
      "0 projection items activated\n",
      "Ready.\n",
      "Extracting parameters from /home/bonaiuto/dev_beta_umd/data/9m/derivatives/NEARICA_behav/sub-020/processed_data/sub-020_task-tool_obs_exe_eeg_processed_data.set...\n",
      "Not setting metadata\n",
      "158 matching events found\n",
      "No baseline correction applied\n",
      "0 projection items activated\n",
      "Ready.\n",
      "Extracting parameters from /home/bonaiuto/dev_beta_umd/data/9m/derivatives/NEARICA_behav/sub-021/processed_data/sub-021_task-tool_obs_exe_eeg_processed_data.set...\n",
      "Not setting metadata\n",
      "147 matching events found\n",
      "No baseline correction applied\n",
      "0 projection items activated\n",
      "Ready.\n",
      "Extracting parameters from /home/bonaiuto/dev_beta_umd/data/9m/derivatives/NEARICA_behav/sub-023/processed_data/sub-023_task-tool_obs_exe_eeg_processed_data.set...\n",
      "Not setting metadata\n",
      "73 matching events found\n",
      "No baseline correction applied\n",
      "0 projection items activated\n",
      "Ready.\n",
      "Extracting parameters from /home/bonaiuto/dev_beta_umd/data/9m/derivatives/NEARICA_behav/sub-024/processed_data/sub-024_task-tool_obs_exe_eeg_processed_data.set...\n",
      "Not setting metadata\n",
      "133 matching events found\n",
      "No baseline correction applied\n",
      "0 projection items activated\n",
      "Ready.\n",
      "Extracting parameters from /home/bonaiuto/dev_beta_umd/data/9m/derivatives/NEARICA_behav/sub-025/processed_data/sub-025_task-tool_obs_exe_eeg_processed_data.set...\n",
      "Not setting metadata\n",
      "64 matching events found\n",
      "No baseline correction applied\n",
      "0 projection items activated\n",
      "Ready.\n",
      "Extracting parameters from /home/bonaiuto/dev_beta_umd/data/9m/derivatives/NEARICA_behav/sub-026/processed_data/sub-026_task-tool_obs_exe_eeg_processed_data.set...\n",
      "Not setting metadata\n",
      "152 matching events found\n",
      "No baseline correction applied\n",
      "0 projection items activated\n",
      "Ready.\n",
      "Extracting parameters from /home/bonaiuto/dev_beta_umd/data/9m/derivatives/NEARICA_behav/sub-027/processed_data/sub-027_task-tool_obs_exe_eeg_processed_data.set...\n",
      "Not setting metadata\n",
      "138 matching events found\n",
      "No baseline correction applied\n",
      "0 projection items activated\n",
      "Ready.\n",
      "Extracting parameters from /home/bonaiuto/dev_beta_umd/data/9m/derivatives/NEARICA_behav/sub-028/processed_data/sub-028_task-tool_obs_exe_eeg_processed_data.set...\n",
      "Not setting metadata\n",
      "129 matching events found\n",
      "No baseline correction applied\n",
      "0 projection items activated\n",
      "Ready.\n",
      "Extracting parameters from /home/bonaiuto/dev_beta_umd/data/9m/derivatives/NEARICA_behav/sub-029/processed_data/sub-029_task-tool_obs_exe_eeg_processed_data.set...\n",
      "Not setting metadata\n",
      "161 matching events found\n",
      "No baseline correction applied\n",
      "0 projection items activated\n",
      "Ready.\n",
      "Extracting parameters from /home/bonaiuto/dev_beta_umd/data/9m/derivatives/NEARICA_behav/sub-030/processed_data/sub-030_task-tool_obs_exe_eeg_processed_data.set...\n",
      "Not setting metadata\n",
      "139 matching events found\n",
      "No baseline correction applied\n",
      "0 projection items activated\n",
      "Ready.\n",
      "Extracting parameters from /home/bonaiuto/dev_beta_umd/data/9m/derivatives/NEARICA_behav/sub-031/processed_data/sub-031_task-tool_obs_exe_eeg_processed_data.set...\n",
      "Not setting metadata\n",
      "94 matching events found\n",
      "No baseline correction applied\n",
      "0 projection items activated\n",
      "Ready.\n",
      "Extracting parameters from /home/bonaiuto/dev_beta_umd/data/9m/derivatives/NEARICA_behav/sub-032/processed_data/sub-032_task-tool_obs_exe_eeg_processed_data.set...\n",
      "Not setting metadata\n",
      "175 matching events found\n",
      "No baseline correction applied\n",
      "0 projection items activated\n",
      "Ready.\n",
      "Extracting parameters from /home/bonaiuto/dev_beta_umd/data/9m/derivatives/NEARICA_behav/sub-033/processed_data/sub-033_task-tool_obs_exe_eeg_processed_data.set...\n",
      "Not setting metadata\n",
      "104 matching events found\n",
      "No baseline correction applied\n",
      "0 projection items activated\n",
      "Ready.\n",
      "Extracting parameters from /home/bonaiuto/dev_beta_umd/data/9m/derivatives/NEARICA_behav/sub-036/processed_data/sub-036_task-tool_obs_exe_eeg_processed_data.set...\n",
      "Not setting metadata\n",
      "53 matching events found\n",
      "No baseline correction applied\n",
      "0 projection items activated\n",
      "Ready.\n",
      "Extracting parameters from /home/bonaiuto/dev_beta_umd/data/9m/derivatives/NEARICA_behav/sub-037/processed_data/sub-037_task-tool_obs_exe_eeg_processed_data.set...\n",
      "Not setting metadata\n",
      "76 matching events found\n",
      "No baseline correction applied\n",
      "0 projection items activated\n",
      "Ready.\n",
      "Extracting parameters from /home/bonaiuto/dev_beta_umd/data/9m/derivatives/NEARICA_behav/sub-038/processed_data/sub-038_task-tool_obs_exe_eeg_processed_data.set...\n",
      "Not setting metadata\n",
      "70 matching events found\n",
      "No baseline correction applied\n",
      "0 projection items activated\n",
      "Ready.\n",
      "Extracting parameters from /home/bonaiuto/dev_beta_umd/data/9m/derivatives/NEARICA_behav/sub-041/processed_data/sub-041_task-tool_obs_exe_eeg_processed_data.set...\n",
      "Not setting metadata\n",
      "112 matching events found\n",
      "No baseline correction applied\n",
      "0 projection items activated\n",
      "Ready.\n",
      "Extracting parameters from /home/bonaiuto/dev_beta_umd/data/9m/derivatives/NEARICA_behav/sub-042/processed_data/sub-042_task-tool_obs_exe_eeg_processed_data.set...\n",
      "Not setting metadata\n",
      "140 matching events found\n",
      "No baseline correction applied\n",
      "0 projection items activated\n",
      "Ready.\n",
      "Extracting parameters from /home/bonaiuto/dev_beta_umd/data/9m/derivatives/NEARICA_behav/sub-043/processed_data/sub-043_task-tool_obs_exe_eeg_processed_data.set...\n",
      "Not setting metadata\n",
      "177 matching events found\n",
      "No baseline correction applied\n",
      "0 projection items activated\n",
      "Ready.\n",
      "Extracting parameters from /home/bonaiuto/dev_beta_umd/data/9m/derivatives/NEARICA_behav/sub-044/processed_data/sub-044_task-tool_obs_exe_eeg_processed_data.set...\n",
      "Not setting metadata\n",
      "87 matching events found\n",
      "No baseline correction applied\n",
      "0 projection items activated\n",
      "Ready.\n",
      "Running FOOOFGroup across 64 power spectra.\n",
      "Running FOOOFGroup across 64 power spectra.\n",
      "Running FOOOFGroup across 64 power spectra.\n",
      "Running FOOOFGroup across 64 power spectra.\n",
      "Running FOOOFGroup across 64 power spectra.\n",
      "Running FOOOFGroup across 64 power spectra.\n",
      "Running FOOOFGroup across 64 power spectra.\n",
      "Running FOOOFGroup across 64 power spectra.\n",
      "Running FOOOFGroup across 64 power spectra.\n",
      "Running FOOOFGroup across 64 power spectra.\n"
     ]
    },
    {
     "name": "stdout",
     "output_type": "stream",
     "text": [
      "Running FOOOFGroup across 64 power spectra.\n",
      "Running FOOOFGroup across 64 power spectra.\n",
      "Running FOOOFGroup across 64 power spectra.\n",
      "Running FOOOFGroup across 64 power spectra.\n",
      "Running FOOOFGroup across 64 power spectra.\n",
      "Running FOOOFGroup across 64 power spectra.\n",
      "Running FOOOFGroup across 64 power spectra.\n",
      "Running FOOOFGroup across 64 power spectra.\n",
      "Running FOOOFGroup across 64 power spectra.\n",
      "Model fitting was unsuccessful.\n",
      "Running FOOOFGroup across 64 power spectra.\n",
      "Running FOOOFGroup across 64 power spectra.\n",
      "Running FOOOFGroup across 64 power spectra.\n",
      "Running FOOOFGroup across 64 power spectra.\n",
      "Running FOOOFGroup across 64 power spectra.\n",
      "Running FOOOFGroup across 64 power spectra.\n",
      "Running FOOOFGroup across 64 power spectra.\n",
      "Running FOOOFGroup across 64 power spectra.\n",
      "Running FOOOFGroup across 64 power spectra.\n"
     ]
    }
   ],
   "source": [
    "c_chan_idx, freqs,sub_psds_9m=compute_psds('9m')\n",
    "fgs_9m, sub_periodic_9m, sub_aperiodic_9m=parameterize_psds(freqs, sub_psds_9m)\n",
    "\n",
    "#c_chan_idx, freqs,sub_psds_12m=compute_psds('12m')\n",
    "#fgs_12m, sub_periodic_12m, sub_aperiodic_12m=parameterize_psds(freqs, sub_psds_12m)\n",
    "\n",
    "#c_chan_idx, freqs,sub_psds_adult=compute_psds('adult')\n",
    "#fgs_adult, sub_periodic_adult, sub_aperiodic_adult=parameterize_psds(freqs, sub_psds_adult)"
   ]
  },
  {
   "cell_type": "code",
   "execution_count": 56,
   "id": "67ae9c36",
   "metadata": {
    "scrolled": true
   },
   "outputs": [
    {
     "data": {
      "text/plain": [
       "<matplotlib.legend.Legend at 0x7fbe17ca44c0>"
      ]
     },
     "execution_count": 56,
     "metadata": {},
     "output_type": "execute_result"
    },
    {
     "data": {
      "image/png": "[encoded data removed]",
      "text/plain": [
       "<Figure size 432x288 with 1 Axes>"
      ]
     },
     "metadata": {
      "needs_background": "light"
     },
     "output_type": "display_data"
    }
   ],
   "source": [
    "all_peaks_9m=[]\n",
    "all_peaks_12m=[]\n",
    "all_peaks_adult=[]\n",
    "for s_idx, fg in enumerate(fgs_9m):\n",
    "    for chan in c_chan_idx:\n",
    "        fm = fg.get_fooof(ind=chan, regenerate=True)\n",
    "        peaks=fm.get_params('peak_params','CF')\n",
    "        if isinstance(peaks, np.ndarray):\n",
    "            all_peaks_9m.extend(peaks)\n",
    "        else:\n",
    "            all_peaks_9m.append(peaks)\n",
    "for s_idx, fg in enumerate(fgs_12m):\n",
    "    for chan in c_chan_idx:\n",
    "        fm = fg.get_fooof(ind=chan, regenerate=True)\n",
    "        peaks=fm.get_params('peak_params','CF')\n",
    "        if isinstance(peaks, np.ndarray):\n",
    "            all_peaks_12m.extend(peaks)\n",
    "        else:\n",
    "            all_peaks_12m.append(peaks)\n",
    "for s_idx, fg in enumerate(fgs_adult):\n",
    "    for chan in c_chan_idx:\n",
    "        fm = fg.get_fooof(ind=chan, regenerate=True)\n",
    "        peaks=fm.get_params('peak_params','CF')\n",
    "        if isinstance(peaks, np.ndarray):\n",
    "            all_peaks_adult.extend(peaks)\n",
    "        else:\n",
    "            all_peaks_adult.append(peaks)\n",
    "plt.hist(all_peaks_9m,75,alpha=.2,label='9m')\n",
    "plt.hist(all_peaks_12m,75,alpha=.2,label='12m')\n",
    "plt.hist(all_peaks_adult,75,alpha=.2,label='adult')\n",
    "plt.legend()"
   ]
  },
  {
   "cell_type": "code",
   "execution_count": 57,
   "id": "98c3df13",
   "metadata": {},
   "outputs": [
    {
     "data": {
      "text/plain": [
       "[<matplotlib.lines.Line2D at 0x7fbe16cd3130>]"
      ]
     },
     "execution_count": 57,
     "metadata": {},
     "output_type": "execute_result"
    },
    {
     "data": {
      "image/png": "[encoded data removed]",
      "text/plain": [
       "<Figure size 432x288 with 1 Axes>"
      ]
     },
     "metadata": {
      "needs_background": "light"
     },
     "output_type": "display_data"
    }
   ],
   "source": [
    "mean_psd_9m=np.mean(np.mean(sub_periodic_9m[:,c_chan_idx,:],axis=1),axis=0)\n",
    "mean_psd_9m[mean_psd_9m<0]=0\n",
    "mean_psd_12m=np.mean(np.mean(sub_periodic_12m[:,c_chan_idx,:],axis=1),axis=0)\n",
    "mean_psd_12m[mean_psd_12m<0]=0\n",
    "mean_psd_adult=np.mean(np.mean(sub_periodic_adult[:,c_chan_idx,:],axis=1),axis=0)\n",
    "mean_psd_adult[mean_psd_adult<0]=0\n",
    "plt.plot(freqs,mean_psd_9m)\n",
    "plt.plot(freqs,mean_psd_12m)\n",
    "plt.plot(freqs,mean_psd_adult)"
   ]
  },
  {
   "cell_type": "code",
   "execution_count": 58,
   "id": "103d575e",
   "metadata": {
    "scrolled": false
   },
   "outputs": [
    {
     "name": "stdout",
     "output_type": "stream",
     "text": [
      "Peak: freq=7.25, val=0.5156623990111487, width=3.5, range=5.5-9.0\n",
      "Distance to nearest original peak=0.0\n",
      "Peak: freq=2.0, val=0.4250734170626252, width=2.0, range=1.0-3.0\n",
      "Distance to nearest original peak=0.0\n",
      "Peak: freq=28.5, val=0.4064997389607199, width=14.0, range=21.5-35.5\n",
      "Distance to nearest original peak=0.0\n",
      "Peak: freq=4.25, val=0.38626288111796175, width=2.5, range=3.0-5.5\n",
      "Distance to nearest original peak=0.25\n",
      "Peak: freq=58.5, val=0.08991422120927337, width=13.5, range=51.75-65.25\n",
      "Distance to nearest original peak=0.25\n",
      "Peak: freq=14.5, val=0.0777840782674969, width=3.5, range=12.75-16.25\n",
      "Distance to nearest original peak=0.25\n"
     ]
    },
    {
     "data": {
      "image/png": "[encoded data removed]",
      "text/plain": [
       "<Figure size 432x288 with 1 Axes>"
      ]
     },
     "metadata": {
      "needs_background": "light"
     },
     "output_type": "display_data"
    }
   ],
   "source": [
    "foi_pk_freqs_9m,foi_pk_vals_9m,foi_fwhms_9m,foi_ranges_9m=define_fois(freqs, mean_psd_9m)"
   ]
  },
  {
   "cell_type": "code",
   "execution_count": 43,
   "id": "cf91c3c0",
   "metadata": {
    "scrolled": false
   },
   "outputs": [
    {
     "name": "stdout",
     "output_type": "stream",
     "text": [
      "Peak: freq=7.5, val=0.6513078057718616, width=3.5, range=5.75-9.25\n",
      "Distance to nearest original peak=0.0\n",
      "Peak: freq=2.0, val=0.3906574134246016, width=2.0, range=1.0-3.0\n",
      "Distance to nearest original peak=0.0\n",
      "Peak: freq=28.75, val=0.35853562105604597, width=15.5, range=21.0-36.5\n",
      "Distance to nearest original peak=0.0\n",
      "Peak: freq=4.25, val=0.35503827632788715, width=3.0, range=2.75-5.75\n",
      "Distance to nearest original peak=2.25\n",
      "Peak: freq=15.25, val=0.1245688929537941, width=3.5, range=13.5-17.0\n",
      "Distance to nearest original peak=0.25\n",
      "Peak: freq=59.0, val=0.044648905457306834, width=7.0, range=55.5-62.5\n",
      "Distance to nearest original peak=0.25\n"
     ]
    },
    {
     "data": {
      "image/png": "[encoded data removed]",
      "text/plain": [
       "<Figure size 432x288 with 1 Axes>"
      ]
     },
     "metadata": {
      "needs_background": "light"
     },
     "output_type": "display_data"
    }
   ],
   "source": [
    "foi_pk_freqs_12m,foi_pk_vals_12m,foi_fwhms_12m,foi_ranges_12m=define_fois(freqs, mean_psd_12m)"
   ]
  },
  {
   "cell_type": "code",
   "execution_count": 48,
   "id": "6ecb9cc9",
   "metadata": {
    "scrolled": false
   },
   "outputs": [
    {
     "name": "stdout",
     "output_type": "stream",
     "text": [
      "Peak: freq=11.0, val=0.6476341178712238, width=3.5, range=9.25-12.75\n",
      "Distance to nearest original peak=0.0\n",
      "Peak: freq=1.75, val=0.45224002856338696, width=2.0, range=0.75-2.75\n",
      "Distance to nearest original peak=0.0\n",
      "Peak: freq=4.0, val=0.31822335152251213, width=3.0, range=2.5-5.5\n",
      "Distance to nearest original peak=2.25\n",
      "Peak: freq=21.5, val=0.19198173940449714, width=6.5, range=18.25-24.75\n",
      "Distance to nearest original peak=0.0\n",
      "Peak: freq=66.5, val=0.0650856974649142, width=31.5, range=50.75-82.25\n",
      "Distance to nearest original peak=0.0\n"
     ]
    },
    {
     "data": {
      "image/png": "[encoded data removed]",
      "text/plain": [
       "<Figure size 432x288 with 1 Axes>"
      ]
     },
     "metadata": {
      "needs_background": "light"
     },
     "output_type": "display_data"
    }
   ],
   "source": [
    "foi_pk_freqs_adult,foi_pk_vals_adult,foi_fwhms_adult,foi_ranges_adult=define_fois(freqs, mean_psd_adult)"
   ]
  },
  {
   "cell_type": "code",
   "execution_count": null,
   "id": "e7ae42e2",
   "metadata": {},
   "outputs": [],
   "source": []
  },
  {
   "cell_type": "code",
   "execution_count": 59,
   "id": "6b35916b",
   "metadata": {},
   "outputs": [],
   "source": [
    "fname = \"processed_psd.mat\"\n",
    "output_path = op.join('/home/bonaiuto/dev_beta_umd/data/9m/derivatives/NEARICA_behav/',fname)\n",
    "scipy.io.savemat(output_path,\n",
    "                 {\n",
    "                     'frex': freqs,\n",
    "                     'psd': sub_psds_9m,\n",
    "                     'periodic': sub_periodic_9m,\n",
    "                     'aperiodic': sub_aperiodic_9m,\n",
    "                     'foi_pk_freqs': foi_pk_freqs_9m,\n",
    "                     'foi_pk_vals': foi_pk_vals_9m,\n",
    "                     'foi_fwhms': foi_fwhms_9m,\n",
    "                     'foi_ranges': foi_ranges_9m\n",
    "                 })  "
   ]
  },
  {
   "cell_type": "code",
   "execution_count": 44,
   "id": "e19871ae",
   "metadata": {},
   "outputs": [],
   "source": [
    "fname = \"processed_psd.mat\"\n",
    "output_path = op.join('/home/bonaiuto/dev_beta_umd/data/12m/derivatives/NEARICA_behav/',fname)\n",
    "scipy.io.savemat(output_path,\n",
    "                 {\n",
    "                     'frex': freqs,\n",
    "                     'psd': sub_psds_12m,\n",
    "                     'periodic': sub_periodic_12m,\n",
    "                     'aperiodic': sub_aperiodic_12m,\n",
    "                     'foi_pk_freqs': foi_pk_freqs_12m,\n",
    "                     'foi_pk_vals': foi_pk_vals_12m,\n",
    "                     'foi_fwhms': foi_fwhms_12m,\n",
    "                     'foi_ranges': foi_ranges_12m\n",
    "                 })  "
   ]
  },
  {
   "cell_type": "code",
   "execution_count": 49,
   "id": "4c19333a",
   "metadata": {},
   "outputs": [],
   "source": [
    "fname = \"processed_psd.mat\"\n",
    "output_path = op.join('/home/bonaiuto/dev_beta_umd/data/adult/derivatives/NEARICA_behav/',fname)\n",
    "scipy.io.savemat(output_path,\n",
    "                 {\n",
    "                     'frex': freqs,\n",
    "                     'psd': sub_psds_adult,\n",
    "                     'periodic': sub_periodic_adult,\n",
    "                     'aperiodic': sub_aperiodic_adult,\n",
    "                     'foi_pk_freqs': foi_pk_freqs_adult,\n",
    "                     'foi_pk_vals': foi_pk_vals_adult,\n",
    "                     'foi_fwhms': foi_fwhms_adult,\n",
    "                     'foi_ranges': foi_ranges_adult\n",
    "                 })  "
   ]
  },
  {
   "cell_type": "code",
   "execution_count": null,
   "id": "694ae301",
   "metadata": {},
   "outputs": [],
   "source": [
    "foi_ranges_9m"
   ]
  },
  {
   "cell_type": "code",
   "execution_count": null,
   "id": "d96c1715",
   "metadata": {},
   "outputs": [],
   "source": [
    "foi_ranges_12m"
   ]
  },
  {
   "cell_type": "code",
   "execution_count": null,
   "id": "5940c3ff",
   "metadata": {},
   "outputs": [],
   "source": [
    "foi_ranges_adult"
   ]
  },
  {
   "cell_type": "code",
   "execution_count": null,
   "id": "c2ed1776",
   "metadata": {},
   "outputs": [],
   "source": []
  }
 ],
 "metadata": {
  "kernelspec": {
   "display_name": "dev_beta_umd",
   "language": "python",
   "name": "dev_beta_umd"
  },
  "language_info": {
   "codemirror_mode": {
    "name": "ipython",
    "version": 3
   },
   "file_extension": ".py",
   "mimetype": "text/x-python",
   "name": "python",
   "nbconvert_exporter": "python",
   "pygments_lexer": "ipython3",
   "version": "3.9.12"
  }
 },
 "nbformat": 4,
 "nbformat_minor": 5
}

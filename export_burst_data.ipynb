{
 "cells": [
  {
   "cell_type": "code",
   "execution_count": 1,
   "id": "a21d8aeb",
   "metadata": {},
   "outputs": [
    {
     "name": "stdout",
     "output_type": "stream",
     "text": [
      "Importing the dtw module. When using in academic works please cite:\n",
      "  T. Giorgino. Computing and Visualizing Dynamic Time Warping Alignments in R: The dtw Package.\n",
      "  J. Stat. Soft., doi:10.18637/jss.v031.i07.\n",
      "\n"
     ]
    }
   ],
   "source": [
    "import pandas as pd\n",
    "import os\n",
    "import os.path as op\n",
    "import h5py\n",
    "import numpy as np\n",
    "import matplotlib.pyplot as plt\n",
    "from dtw import *\n",
    "from sklearn.decomposition import PCA\n",
    "from sklearn.preprocessing import RobustScaler\n",
    "from scipy.interpolate import interpn\n",
    "from tqdm.notebook import trange, tqdm\n",
    "from scipy.ndimage import gaussian_filter1d\n",
    "from mne.stats import permutation_cluster_test\n",
    "from matplotlib import colors\n",
    "from matplotlib.colors import Normalize \n",
    "from matplotlib import cm\n",
    "import scipy.io\n",
    "from mne.io import read_epochs_eeglab"
   ]
  },
  {
   "cell_type": "code",
   "execution_count": 2,
   "id": "8e61dbf4",
   "metadata": {},
   "outputs": [],
   "source": [
    "pipeline='NEARICA_behav'\n",
    "ages=['9m','12m','adult']\n",
    "\n",
    "cluster_chans=['E16', 'E20', 'E21', 'E22','E41', 'E49', 'E50', 'E51']\n",
    "\n",
    "def load_bursts(pipeline, age):\n",
    "    bursts = {\n",
    "        'age': [],\n",
    "        'subject': [],\n",
    "        'chan': [],\n",
    "        'cluster': [],\n",
    "        'epoch': [],\n",
    "        'fwhm_freq': [],\n",
    "        'fwhm_time': [],\n",
    "        'peak_adjustment': [],\n",
    "        'peak_amp_base': [],\n",
    "        'peak_amp_iter': [],\n",
    "        'peak_freq': [],\n",
    "        'peak_time': [],\n",
    "        'polarity': [],\n",
    "        'trial': [],\n",
    "        'waveform': [],        \n",
    "        'waveform_times': []\n",
    "    }\n",
    "\n",
    "    subjects=pd.read_csv(op.join('/home/bonaiuto/dev_beta_umd/data',age,'data/participants.tsv'), sep='\\t')\n",
    "    for subject in subjects['participant_id']:\n",
    "        print('loading {}'.format(subject))\n",
    "        fname=op.join('/home/bonaiuto/dev_beta_umd/data',age,'derivatives',pipeline,subject,'processed_data/processed_bursts.mat')\n",
    "        if os.path.exists(fname):\n",
    "            with h5py.File(fname, 'r') as f:\n",
    "                bursts['age'].extend([age for x in list(f['bursts']['trial'])])\n",
    "                bursts['subject'].extend([subject for x in list(f['bursts']['trial'])])\n",
    "                bursts['chan'].extend(list(np.squeeze(f['bursts']['chan'][:])))\n",
    "                bursts['cluster'].extend([u''.join(chr(c) for c in np.squeeze(f[obj_ref][:])) for obj_ref in np.squeeze(f['bursts']['cluster'][:])])\n",
    "                bursts['epoch'].extend([u''.join(chr(c) for c in np.squeeze(f[obj_ref][:])) for obj_ref in np.squeeze(f['bursts']['epoch'][:])])\n",
    "                bursts['fwhm_freq'].extend(list(np.squeeze(f['bursts']['fwhm_freq'][:])))\n",
    "                bursts['fwhm_time'].extend(list(np.squeeze(f['bursts']['fwhm_time'][:])))\n",
    "                bursts['peak_adjustment'].extend(list(np.squeeze(f['bursts']['peak_adjustment'][:])))\n",
    "                bursts['peak_amp_base'].extend(list(np.squeeze(f['bursts']['peak_amp_base'][:])))\n",
    "                bursts['peak_amp_iter'].extend(list(np.squeeze(f['bursts']['peak_amp_iter'][:])))\n",
    "                bursts['peak_freq'].extend(list(np.squeeze(f['bursts']['peak_freq'][:])))\n",
    "                bursts['peak_time'].extend(list(np.squeeze(f['bursts']['peak_time'][:])))\n",
    "                bursts['polarity'].extend(list(np.squeeze(f['bursts']['polarity'][:])))\n",
    "                bursts['trial'].extend(list(np.squeeze(f['bursts']['trial'][:])))\n",
    "                for i in range(f['bursts']['waveform'][:,:].shape[1]):\n",
    "                    bursts['waveform'].append(f['bursts']['waveform'][:,i])\n",
    "                bursts['waveform_times']=f['bursts']['waveform_times'][:]\n",
    "                \n",
    "    bursts['age']=np.array(bursts['age'])\n",
    "    bursts['subject']=np.array(bursts['subject'])\n",
    "    bursts['chan']=np.array(bursts['chan'])\n",
    "    bursts['cluster']=np.array(bursts['cluster'])\n",
    "    bursts['epoch']=np.array(bursts['epoch'])\n",
    "    bursts['fwhm_freq']=np.array(bursts['fwhm_freq'])\n",
    "    bursts['fwhm_time']=np.array(bursts['fwhm_time'])\n",
    "    bursts['peak_adjustment']=np.array(bursts['peak_adjustment'])\n",
    "    bursts['peak_amp_base']=np.array(bursts['peak_amp_base'])\n",
    "    bursts['peak_amp_iter']=np.array(bursts['peak_amp_iter'])\n",
    "    bursts['peak_freq']=np.array(bursts['peak_freq'])\n",
    "    bursts['peak_time']=np.array(bursts['peak_time'])\n",
    "    bursts['polarity']=np.array(bursts['polarity'])\n",
    "    bursts['trial']=np.array(bursts['trial'])\n",
    "    bursts['waveform']=np.array(bursts['waveform'])\n",
    "    bursts['waveform_times']=np.array(bursts['waveform_times'])\n",
    "    \n",
    "    return bursts"
   ]
  },
  {
   "cell_type": "code",
   "execution_count": 4,
   "id": "fb92c43f",
   "metadata": {},
   "outputs": [
    {
     "name": "stdout",
     "output_type": "stream",
     "text": [
      "loading sub-010\n",
      "loading sub-012\n",
      "loading sub-013\n",
      "loading sub-014\n",
      "loading sub-015\n",
      "loading sub-016\n",
      "loading sub-018\n",
      "loading sub-019\n",
      "loading sub-020\n",
      "loading sub-021\n",
      "loading sub-023\n",
      "loading sub-024\n",
      "loading sub-025\n",
      "loading sub-026\n",
      "loading sub-027\n",
      "loading sub-028\n",
      "loading sub-029\n",
      "loading sub-030\n",
      "loading sub-031\n",
      "loading sub-032\n",
      "loading sub-033\n",
      "loading sub-036\n",
      "loading sub-037\n",
      "loading sub-038\n",
      "loading sub-041\n",
      "loading sub-042\n",
      "loading sub-043\n",
      "loading sub-044\n"
     ]
    }
   ],
   "source": [
    "c_bursts_9m=load_bursts(pipeline, '9m')"
   ]
  },
  {
   "cell_type": "code",
   "execution_count": 5,
   "id": "c5b18e67",
   "metadata": {},
   "outputs": [
    {
     "name": "stdout",
     "output_type": "stream",
     "text": [
      "loading sub-001\n",
      "loading sub-002\n",
      "loading sub-003\n",
      "loading sub-004\n",
      "loading sub-005\n",
      "loading sub-006\n",
      "loading sub-007\n",
      "loading sub-008\n",
      "loading sub-009\n",
      "loading sub-010\n",
      "loading sub-011\n",
      "loading sub-012\n",
      "loading sub-013\n",
      "loading sub-014\n",
      "loading sub-015\n",
      "loading sub-016\n",
      "loading sub-017\n",
      "loading sub-018\n",
      "loading sub-019\n",
      "loading sub-020\n",
      "loading sub-021\n",
      "loading sub-022\n",
      "loading sub-023\n",
      "loading sub-024\n",
      "loading sub-025\n",
      "loading sub-026\n",
      "loading sub-027\n",
      "loading sub-028\n",
      "loading sub-029\n",
      "loading sub-030\n",
      "loading sub-031\n",
      "loading sub-032\n",
      "loading sub-033\n"
     ]
    }
   ],
   "source": [
    "c_bursts_12m=load_bursts(pipeline, '12m')"
   ]
  },
  {
   "cell_type": "code",
   "execution_count": 6,
   "id": "5e74f9ca",
   "metadata": {},
   "outputs": [
    {
     "name": "stdout",
     "output_type": "stream",
     "text": [
      "loading sub-001\n",
      "loading sub-002\n",
      "loading sub-003\n",
      "loading sub-004\n",
      "loading sub-005\n",
      "loading sub-006\n",
      "loading sub-007\n",
      "loading sub-008\n",
      "loading sub-009\n",
      "loading sub-010\n",
      "loading sub-011\n",
      "loading sub-012\n",
      "loading sub-013\n",
      "loading sub-014\n",
      "loading sub-015\n",
      "loading sub-016\n",
      "loading sub-017\n",
      "loading sub-018\n",
      "loading sub-019\n",
      "loading sub-020\n",
      "loading sub-021\n",
      "loading sub-022\n"
     ]
    }
   ],
   "source": [
    "c_bursts_adult=load_bursts(pipeline, 'adult')"
   ]
  },
  {
   "cell_type": "code",
   "execution_count": 8,
   "id": "5e89e679",
   "metadata": {},
   "outputs": [],
   "source": [
    "c_burst_times_9m=c_bursts_9m['waveform_times']\n",
    "c_burst_times_12m=c_bursts_12m['waveform_times']\n",
    "c_burst_times_adult=c_bursts_adult['waveform_times']\n",
    "med_c_9m=np.percentile(c_bursts_9m['waveform'], 50, axis=0)\n",
    "med_c_12m=np.percentile(c_bursts_12m['waveform'], 50, axis=0)\n",
    "med_c_adult=np.percentile(c_bursts_adult['waveform'], 50, axis=0)\n",
    "norm_c_adult=med_c_adult/np.max(med_c_adult)\n",
    "norm_c_12m=med_c_12m/np.max(med_c_12m)\n",
    "norm_c_9m=med_c_9m/np.max(med_c_9m)\n",
    "alignment_c_9m=dtw(norm_c_9m, norm_c_adult, keep_internals=True, step_pattern=rabinerJuangStepPattern(5,\"c\"))\n",
    "aligned_c_9m_idx=warp(alignment_c_9m,index_reference=False)\n",
    "alignment_c_12m=dtw(norm_c_12m, norm_c_adult, keep_internals=True, step_pattern=rabinerJuangStepPattern(5,\"c\"))\n",
    "aligned_c_12m_idx=warp(alignment_c_12m,index_reference=False)\n",
    "aligned_c_9m_bursts=c_bursts_9m['waveform'][:,aligned_c_9m_idx]\n",
    "aligned_c_12m_bursts=c_bursts_12m['waveform'][:,aligned_c_12m_idx]\n",
    "aligned_c_adult_bursts=c_bursts_adult['waveform'][:,:-1]\n",
    "\n",
    "aligned_c_bursts=np.vstack([aligned_c_9m_bursts,aligned_c_12m_bursts,aligned_c_adult_bursts])"
   ]
  },
  {
   "cell_type": "code",
   "execution_count": 9,
   "id": "921411ec",
   "metadata": {},
   "outputs": [],
   "source": [
    "c_pca = PCA(n_components=20)\n",
    "burst_std_c_9m=RobustScaler().fit_transform(aligned_c_9m_bursts)\n",
    "burst_std_c_12m=RobustScaler().fit_transform(aligned_c_12m_bursts)\n",
    "burst_std_c_adult=RobustScaler().fit_transform(aligned_c_adult_bursts)\n",
    "burst_std_c=np.vstack([burst_std_c_9m, burst_std_c_12m, burst_std_c_adult])\n",
    "c_pca=c_pca.fit(burst_std_c)\n",
    "pcs_c_9m = c_pca.transform(burst_std_c_9m)\n",
    "pcs_c_12m = c_pca.transform(burst_std_c_12m)\n",
    "pcs_c_adult = c_pca.transform(burst_std_c_adult)\n",
    "\n",
    "pca_components_c_9m = pd.DataFrame(pcs_c_9m)\n",
    "pca_components_c_12m = pd.DataFrame(pcs_c_12m)\n",
    "pca_components_c_adult = pd.DataFrame(pcs_c_adult)\n",
    "\n",
    "pcs_c=np.vstack([pcs_c_9m,pcs_c_12m,pcs_c_adult])"
   ]
  },
  {
   "cell_type": "code",
   "execution_count": 10,
   "id": "67176594",
   "metadata": {},
   "outputs": [],
   "source": [
    "pca_c_9m_dict={i:c_bursts_9m[i] for i in c_bursts_9m if i!='waveform' and i!='waveform_times'}\n",
    "for i in range(20):\n",
    "    pca_c_9m_dict['PC{}'.format(i+1)]=pcs_c_9m[:,i]\n",
    "df_c_9m=pd.DataFrame.from_dict(pca_c_9m_dict,orient='index').transpose()"
   ]
  },
  {
   "cell_type": "code",
   "execution_count": 11,
   "id": "a390b2f9",
   "metadata": {},
   "outputs": [],
   "source": [
    "pca_c_12m_dict={i:c_bursts_12m[i] for i in c_bursts_12m if i!='waveform' and i!='waveform_times'}\n",
    "for i in range(20):\n",
    "    pca_c_12m_dict['PC{}'.format(i+1)]=pcs_c_12m[:,i]\n",
    "df_c_12m=pd.DataFrame.from_dict(pca_c_12m_dict,orient='index').transpose()"
   ]
  },
  {
   "cell_type": "code",
   "execution_count": 12,
   "id": "a97777af",
   "metadata": {},
   "outputs": [],
   "source": [
    "pca_c_adult_dict={i:c_bursts_adult[i] for i in c_bursts_adult if i!='waveform' and i!='waveform_times'}\n",
    "for i in range(20):\n",
    "    pca_c_adult_dict['PC{}'.format(i+1)]=pcs_c_adult[:,i]\n",
    "df_c_adult=pd.DataFrame.from_dict(pca_c_adult_dict,orient='index').transpose()"
   ]
  },
  {
   "cell_type": "code",
   "execution_count": 13,
   "id": "f4c019a0",
   "metadata": {},
   "outputs": [],
   "source": [
    "df=pd.concat([df_c_9m,df_c_12m,df_c_adult], ignore_index=True, sort=False)\n",
    "df.to_csv('/home/bonaiuto/dev_beta_umd/output/bursts.csv')"
   ]
  },
  {
   "cell_type": "code",
   "execution_count": null,
   "id": "82e4898b",
   "metadata": {},
   "outputs": [],
   "source": []
  }
 ],
 "metadata": {
  "kernelspec": {
   "display_name": "dev_beta_umd",
   "language": "python",
   "name": "dev_beta_umd"
  },
  "language_info": {
   "codemirror_mode": {
    "name": "ipython",
    "version": 3
   },
   "file_extension": ".py",
   "mimetype": "text/x-python",
   "name": "python",
   "nbconvert_exporter": "python",
   "pygments_lexer": "ipython3",
   "version": "3.9.12"
  }
 },
 "nbformat": 4,
 "nbformat_minor": 5
}
